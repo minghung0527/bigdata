{
  "nbformat": 4,
  "nbformat_minor": 0,
  "metadata": {
    "colab": {
      "name": "1008csv.ipynb",
      "provenance": [],
      "collapsed_sections": [],
      "include_colab_link": true
    },
    "kernelspec": {
      "name": "ir",
      "display_name": "R"
    }
  },
  "cells": [
    {
      "cell_type": "markdown",
      "metadata": {
        "id": "view-in-github",
        "colab_type": "text"
      },
      "source": [
        "<a href=\"https://colab.research.google.com/github/minghung0527/bigdata/blob/master/1008csv.ipynb\" target=\"_parent\"><img src=\"https://colab.research.google.com/assets/colab-badge.svg\" alt=\"Open In Colab\"/></a>"
      ]
    },
    {
      "cell_type": "code",
      "metadata": {
        "id": "bNY7gYauTefL",
        "outputId": "d7755618-3e66-4e3f-eb87-b6ae0c2fd130",
        "colab": {
          "base_uri": "https://localhost:8080/",
          "height": 34
        }
      },
      "source": [
        "system(\"ls\", TRUE)"
      ],
      "execution_count": 6,
      "outputs": [
        {
          "output_type": "display_data",
          "data": {
            "text/plain": [
              "[1] \"20191203動物資料.csv\" \"sample_data\"         "
            ],
            "text/latex": "\\begin{enumerate*}\n\\item '20191203動物資料.csv'\n\\item 'sample\\_data'\n\\end{enumerate*}\n",
            "text/markdown": "1. '20191203動物資料.csv'\n2. 'sample_data'\n\n\n",
            "text/html": [
              "<style>\n",
              ".list-inline {list-style: none; margin:0; padding: 0}\n",
              ".list-inline>li {display: inline-block}\n",
              ".list-inline>li:not(:last-child)::after {content: \"\\00b7\"; padding: 0 .5ex}\n",
              "</style>\n",
              "<ol class=list-inline><li>'20191203動物資料.csv'</li><li>'sample_data'</li></ol>\n"
            ]
          },
          "metadata": {
            "tags": []
          }
        }
      ]
    },
    {
      "cell_type": "code",
      "metadata": {
        "id": "1TVIw5YQXcVu"
      },
      "source": [
        "library(readr)"
      ],
      "execution_count": null,
      "outputs": []
    },
    {
      "cell_type": "code",
      "metadata": {
        "id": "LzyL868YXuxn"
      },
      "source": [
        "dataset <- read.csv(\"20191203動物資料.csv\")"
      ],
      "execution_count": 10,
      "outputs": []
    },
    {
      "cell_type": "code",
      "metadata": {
        "id": "5THXfildXu3V"
      },
      "source": [
        "dataset"
      ],
      "execution_count": null,
      "outputs": []
    },
    {
      "cell_type": "code",
      "metadata": {
        "id": "YVggSvV7Xu_w",
        "outputId": "324f1959-a24b-4ebc-d096-ff9ff33f6943",
        "colab": {
          "base_uri": "https://localhost:8080/",
          "height": 34
        }
      },
      "source": [
        "head(dataset$A_Name_Ch, n=10)"
      ],
      "execution_count": 12,
      "outputs": [
        {
          "output_type": "display_data",
          "data": {
            "text/plain": [
              " [1] \"大貓熊\"     \"國王企鵝\"   \"黑腳企鵝\"   \"弓角羚羊\"   \"非洲野驢\"  \n",
              " [6] \"單峰駱駝\"   \"雙峰駱駝\"   \"人猿\"       \"大長臂猿\"   \"印度大犀鳥\""
            ],
            "text/latex": "\\begin{enumerate*}\n\\item '大貓熊'\n\\item '國王企鵝'\n\\item '黑腳企鵝'\n\\item '弓角羚羊'\n\\item '非洲野驢'\n\\item '單峰駱駝'\n\\item '雙峰駱駝'\n\\item '人猿'\n\\item '大長臂猿'\n\\item '印度大犀鳥'\n\\end{enumerate*}\n",
            "text/markdown": "1. '大貓熊'\n2. '國王企鵝'\n3. '黑腳企鵝'\n4. '弓角羚羊'\n5. '非洲野驢'\n6. '單峰駱駝'\n7. '雙峰駱駝'\n8. '人猿'\n9. '大長臂猿'\n10. '印度大犀鳥'\n\n\n",
            "text/html": [
              "<style>\n",
              ".list-inline {list-style: none; margin:0; padding: 0}\n",
              ".list-inline>li {display: inline-block}\n",
              ".list-inline>li:not(:last-child)::after {content: \"\\00b7\"; padding: 0 .5ex}\n",
              "</style>\n",
              "<ol class=list-inline><li>'大貓熊'</li><li>'國王企鵝'</li><li>'黑腳企鵝'</li><li>'弓角羚羊'</li><li>'非洲野驢'</li><li>'單峰駱駝'</li><li>'雙峰駱駝'</li><li>'人猿'</li><li>'大長臂猿'</li><li>'印度大犀鳥'</li></ol>\n"
            ]
          },
          "metadata": {
            "tags": []
          }
        }
      ]
    },
    {
      "cell_type": "code",
      "metadata": {
        "id": "o6QZM_b6XvDV",
        "outputId": "d1dac562-6076-4312-9840-299755a5dc9d",
        "colab": {
          "base_uri": "https://localhost:8080/",
          "height": 34
        }
      },
      "source": [
        "tail(dataset$A_Name_Ch, n=10)"
      ],
      "execution_count": 13,
      "outputs": [
        {
          "output_type": "display_data",
          "data": {
            "text/plain": [
              " [1] \"棉頭絹猴\"     \"阿氏夜猴\"     \"小懶猴\"       \"粗尾侏儒狐猴\" \"蜜熊(未展出)\"\n",
              " [6] \"金色箭毒蛙\"   \"黃帶箭毒蛙\"   \"迷彩箭毒蛙\"   \"鈷藍箭毒蛙\"   \"象魚\"        "
            ],
            "text/latex": "\\begin{enumerate*}\n\\item '棉頭絹猴'\n\\item '阿氏夜猴'\n\\item '小懶猴'\n\\item '粗尾侏儒狐猴'\n\\item '蜜熊(未展出)'\n\\item '金色箭毒蛙'\n\\item '黃帶箭毒蛙'\n\\item '迷彩箭毒蛙'\n\\item '鈷藍箭毒蛙'\n\\item '象魚'\n\\end{enumerate*}\n",
            "text/markdown": "1. '棉頭絹猴'\n2. '阿氏夜猴'\n3. '小懶猴'\n4. '粗尾侏儒狐猴'\n5. '蜜熊(未展出)'\n6. '金色箭毒蛙'\n7. '黃帶箭毒蛙'\n8. '迷彩箭毒蛙'\n9. '鈷藍箭毒蛙'\n10. '象魚'\n\n\n",
            "text/html": [
              "<style>\n",
              ".list-inline {list-style: none; margin:0; padding: 0}\n",
              ".list-inline>li {display: inline-block}\n",
              ".list-inline>li:not(:last-child)::after {content: \"\\00b7\"; padding: 0 .5ex}\n",
              "</style>\n",
              "<ol class=list-inline><li>'棉頭絹猴'</li><li>'阿氏夜猴'</li><li>'小懶猴'</li><li>'粗尾侏儒狐猴'</li><li>'蜜熊(未展出)'</li><li>'金色箭毒蛙'</li><li>'黃帶箭毒蛙'</li><li>'迷彩箭毒蛙'</li><li>'鈷藍箭毒蛙'</li><li>'象魚'</li></ol>\n"
            ]
          },
          "metadata": {
            "tags": []
          }
        }
      ]
    },
    {
      "cell_type": "code",
      "metadata": {
        "id": "ZJDtscb9XvGZ",
        "outputId": "484e7d6b-d5be-4afe-b9e8-72f38771cb85",
        "colab": {
          "base_uri": "https://localhost:8080/",
          "height": 34
        }
      },
      "source": [
        "head(dataset$A_Name_Ch, n=20)"
      ],
      "execution_count": 15,
      "outputs": [
        {
          "output_type": "display_data",
          "data": {
            "text/plain": [
              " [1] \"大貓熊\"     \"國王企鵝\"   \"黑腳企鵝\"   \"弓角羚羊\"   \"非洲野驢\"  \n",
              " [6] \"單峰駱駝\"   \"雙峰駱駝\"   \"人猿\"       \"大長臂猿\"   \"印度大犀鳥\"\n",
              "[11] \"亞洲象\"     \"孟加拉虎\"   \"花豹\"       \"馬來熊\"     \"馬來貘\"    \n",
              "[16] \"黑天鵝\"     \"白手長臂猿\" \"家鴨\"       \"家雞\"       \"家鵝\"      "
            ],
            "text/latex": "\\begin{enumerate*}\n\\item '大貓熊'\n\\item '國王企鵝'\n\\item '黑腳企鵝'\n\\item '弓角羚羊'\n\\item '非洲野驢'\n\\item '單峰駱駝'\n\\item '雙峰駱駝'\n\\item '人猿'\n\\item '大長臂猿'\n\\item '印度大犀鳥'\n\\item '亞洲象'\n\\item '孟加拉虎'\n\\item '花豹'\n\\item '馬來熊'\n\\item '馬來貘'\n\\item '黑天鵝'\n\\item '白手長臂猿'\n\\item '家鴨'\n\\item '家雞'\n\\item '家鵝'\n\\end{enumerate*}\n",
            "text/markdown": "1. '大貓熊'\n2. '國王企鵝'\n3. '黑腳企鵝'\n4. '弓角羚羊'\n5. '非洲野驢'\n6. '單峰駱駝'\n7. '雙峰駱駝'\n8. '人猿'\n9. '大長臂猿'\n10. '印度大犀鳥'\n11. '亞洲象'\n12. '孟加拉虎'\n13. '花豹'\n14. '馬來熊'\n15. '馬來貘'\n16. '黑天鵝'\n17. '白手長臂猿'\n18. '家鴨'\n19. '家雞'\n20. '家鵝'\n\n\n",
            "text/html": [
              "<style>\n",
              ".list-inline {list-style: none; margin:0; padding: 0}\n",
              ".list-inline>li {display: inline-block}\n",
              ".list-inline>li:not(:last-child)::after {content: \"\\00b7\"; padding: 0 .5ex}\n",
              "</style>\n",
              "<ol class=list-inline><li>'大貓熊'</li><li>'國王企鵝'</li><li>'黑腳企鵝'</li><li>'弓角羚羊'</li><li>'非洲野驢'</li><li>'單峰駱駝'</li><li>'雙峰駱駝'</li><li>'人猿'</li><li>'大長臂猿'</li><li>'印度大犀鳥'</li><li>'亞洲象'</li><li>'孟加拉虎'</li><li>'花豹'</li><li>'馬來熊'</li><li>'馬來貘'</li><li>'黑天鵝'</li><li>'白手長臂猿'</li><li>'家鴨'</li><li>'家雞'</li><li>'家鵝'</li></ol>\n"
            ]
          },
          "metadata": {
            "tags": []
          }
        }
      ]
    },
    {
      "cell_type": "code",
      "metadata": {
        "id": "w5jGgw9-d_X7",
        "outputId": "8d9ed922-c8c4-478d-91d2-ead4fa496914",
        "colab": {
          "base_uri": "https://localhost:8080/",
          "height": 50
        }
      },
      "source": [
        "tail(dataset$A_Name_Ch, n=20)"
      ],
      "execution_count": 17,
      "outputs": [
        {
          "output_type": "display_data",
          "data": {
            "text/plain": [
              " [1] \"水豚\"         \"大食蟻獸\"     \"南美小食蟻獸\" \"白面捲尾猴\"   \"紅藍吸蜜鸚鵡\"\n",
              " [6] \"黃腿象龜\"     \"棕蜘蛛猴\"     \"二趾樹獺\"     \"慈鯛\"         \"珍珠魟\"      \n",
              "[11] \"棉頭絹猴\"     \"阿氏夜猴\"     \"小懶猴\"       \"粗尾侏儒狐猴\" \"蜜熊(未展出)\"\n",
              "[16] \"金色箭毒蛙\"   \"黃帶箭毒蛙\"   \"迷彩箭毒蛙\"   \"鈷藍箭毒蛙\"   \"象魚\"        "
            ],
            "text/latex": "\\begin{enumerate*}\n\\item '水豚'\n\\item '大食蟻獸'\n\\item '南美小食蟻獸'\n\\item '白面捲尾猴'\n\\item '紅藍吸蜜鸚鵡'\n\\item '黃腿象龜'\n\\item '棕蜘蛛猴'\n\\item '二趾樹獺'\n\\item '慈鯛'\n\\item '珍珠魟'\n\\item '棉頭絹猴'\n\\item '阿氏夜猴'\n\\item '小懶猴'\n\\item '粗尾侏儒狐猴'\n\\item '蜜熊(未展出)'\n\\item '金色箭毒蛙'\n\\item '黃帶箭毒蛙'\n\\item '迷彩箭毒蛙'\n\\item '鈷藍箭毒蛙'\n\\item '象魚'\n\\end{enumerate*}\n",
            "text/markdown": "1. '水豚'\n2. '大食蟻獸'\n3. '南美小食蟻獸'\n4. '白面捲尾猴'\n5. '紅藍吸蜜鸚鵡'\n6. '黃腿象龜'\n7. '棕蜘蛛猴'\n8. '二趾樹獺'\n9. '慈鯛'\n10. '珍珠魟'\n11. '棉頭絹猴'\n12. '阿氏夜猴'\n13. '小懶猴'\n14. '粗尾侏儒狐猴'\n15. '蜜熊(未展出)'\n16. '金色箭毒蛙'\n17. '黃帶箭毒蛙'\n18. '迷彩箭毒蛙'\n19. '鈷藍箭毒蛙'\n20. '象魚'\n\n\n",
            "text/html": [
              "<style>\n",
              ".list-inline {list-style: none; margin:0; padding: 0}\n",
              ".list-inline>li {display: inline-block}\n",
              ".list-inline>li:not(:last-child)::after {content: \"\\00b7\"; padding: 0 .5ex}\n",
              "</style>\n",
              "<ol class=list-inline><li>'水豚'</li><li>'大食蟻獸'</li><li>'南美小食蟻獸'</li><li>'白面捲尾猴'</li><li>'紅藍吸蜜鸚鵡'</li><li>'黃腿象龜'</li><li>'棕蜘蛛猴'</li><li>'二趾樹獺'</li><li>'慈鯛'</li><li>'珍珠魟'</li><li>'棉頭絹猴'</li><li>'阿氏夜猴'</li><li>'小懶猴'</li><li>'粗尾侏儒狐猴'</li><li>'蜜熊(未展出)'</li><li>'金色箭毒蛙'</li><li>'黃帶箭毒蛙'</li><li>'迷彩箭毒蛙'</li><li>'鈷藍箭毒蛙'</li><li>'象魚'</li></ol>\n"
            ]
          },
          "metadata": {
            "tags": []
          }
        }
      ]
    },
    {
      "cell_type": "code",
      "metadata": {
        "id": "6wvIeFiNd_dC",
        "outputId": "ede1afe6-7ec2-4eea-938d-70b57586b7ba",
        "colab": {
          "base_uri": "https://localhost:8080/",
          "height": 202
        }
      },
      "source": [
        "dataset[grep(\"企鵝\", dataset$A_Name_Ch),]"
      ],
      "execution_count": 19,
      "outputs": [
        {
          "output_type": "display_data",
          "data": {
            "text/plain": [
              "  A_Name_Ch A_Summary A_Keywords     A_AlsoKnown\n",
              "2 國王企鵝            企鵝；國王企鵝            \n",
              "3 黑腳企鵝                                      \n",
              "  A_Geo                                 A_Location A_POIGroup A_Name_En      \n",
              "2 MULTIPOINT ((121.5907654 24.9931338)) 企鵝館                King Penguin   \n",
              "3 MULTIPOINT ((121.5910631 24.9928761)) 企鵝館                Jackass penguin\n",
              "  A_Name_Latin            A_Phylum   ⋯ A_pdf02_URL A_Voice01_ALT A_Voice01_URL\n",
              "2 Aptenodytes patagonicus 脊索動物門 ⋯                                        \n",
              "3 Spheniscus demersu      脊索動物門 ⋯                                        \n",
              "  A_Voice02_ALT A_Voice02_URL A_Voice03_ALT A_Voice03_URL\n",
              "2                                                        \n",
              "3                                                        \n",
              "  A_Vedio_URL                                                             \n",
              "2 https://www.youtube.com/playlist?list=PLWYak5Af5-DuSoWNgHVIi8vH8AlN6Rzg4\n",
              "3 https://www.youtube.com/playlist?list=PLWYak5Af5-Dvty-i1vf2Qi3_pHasXp3LI\n",
              "  A_Update  A_CID\n",
              "2 2017/9/29 2    \n",
              "3 2017/9/29 3    "
            ],
            "text/latex": "A data.frame: 2 × 46\n\\begin{tabular}{r|lllllllllllllllllllll}\n  & A\\_Name\\_Ch & A\\_Summary & A\\_Keywords & A\\_AlsoKnown & A\\_Geo & A\\_Location & A\\_POIGroup & A\\_Name\\_En & A\\_Name\\_Latin & A\\_Phylum & ⋯ & A\\_pdf02\\_URL & A\\_Voice01\\_ALT & A\\_Voice01\\_URL & A\\_Voice02\\_ALT & A\\_Voice02\\_URL & A\\_Voice03\\_ALT & A\\_Voice03\\_URL & A\\_Vedio\\_URL & A\\_Update & A\\_CID\\\\\n  & <chr> & <chr> & <chr> & <chr> & <chr> & <chr> & <chr> & <chr> & <chr> & <chr> & ⋯ & <chr> & <chr> & <chr> & <chr> & <chr> & <chr> & <chr> & <chr> & <chr> & <int>\\\\\n\\hline\n\t2 & 國王企鵝 &  & 企鵝；國王企鵝 &  & MULTIPOINT ((121.5907654 24.9931338)) & 企鵝館 &  & King Penguin    & Aptenodytes patagonicus & 脊索動物門 & ⋯ &  &  &  &  &  &  &  & https://www.youtube.com/playlist?list=PLWYak5Af5-DuSoWNgHVIi8vH8AlN6Rzg4 & 2017/9/29 & 2\\\\\n\t3 & 黑腳企鵝 &  &                &  & MULTIPOINT ((121.5910631 24.9928761)) & 企鵝館 &  & Jackass penguin & Spheniscus demersu      & 脊索動物門 & ⋯ &  &  &  &  &  &  &  & https://www.youtube.com/playlist?list=PLWYak5Af5-Dvty-i1vf2Qi3\\_pHasXp3LI & 2017/9/29 & 3\\\\\n\\end{tabular}\n",
            "text/markdown": "\nA data.frame: 2 × 46\n\n| <!--/--> | A_Name_Ch &lt;chr&gt; | A_Summary &lt;chr&gt; | A_Keywords &lt;chr&gt; | A_AlsoKnown &lt;chr&gt; | A_Geo &lt;chr&gt; | A_Location &lt;chr&gt; | A_POIGroup &lt;chr&gt; | A_Name_En &lt;chr&gt; | A_Name_Latin &lt;chr&gt; | A_Phylum &lt;chr&gt; | ⋯ ⋯ | A_pdf02_URL &lt;chr&gt; | A_Voice01_ALT &lt;chr&gt; | A_Voice01_URL &lt;chr&gt; | A_Voice02_ALT &lt;chr&gt; | A_Voice02_URL &lt;chr&gt; | A_Voice03_ALT &lt;chr&gt; | A_Voice03_URL &lt;chr&gt; | A_Vedio_URL &lt;chr&gt; | A_Update &lt;chr&gt; | A_CID &lt;int&gt; |\n|---|---|---|---|---|---|---|---|---|---|---|---|---|---|---|---|---|---|---|---|---|---|\n| 2 | 國王企鵝 | <!----> | 企鵝；國王企鵝 | <!----> | MULTIPOINT ((121.5907654 24.9931338)) | 企鵝館 | <!----> | King Penguin    | Aptenodytes patagonicus | 脊索動物門 | ⋯ | <!----> | <!----> | <!----> | <!----> | <!----> | <!----> | <!----> | https://www.youtube.com/playlist?list=PLWYak5Af5-DuSoWNgHVIi8vH8AlN6Rzg4 | 2017/9/29 | 2 |\n| 3 | 黑腳企鵝 | <!----> | <!----> | <!----> | MULTIPOINT ((121.5910631 24.9928761)) | 企鵝館 | <!----> | Jackass penguin | Spheniscus demersu      | 脊索動物門 | ⋯ | <!----> | <!----> | <!----> | <!----> | <!----> | <!----> | <!----> | https://www.youtube.com/playlist?list=PLWYak5Af5-Dvty-i1vf2Qi3_pHasXp3LI | 2017/9/29 | 3 |\n\n",
            "text/html": [
              "<table>\n",
              "<caption>A data.frame: 2 × 46</caption>\n",
              "<thead>\n",
              "\t<tr><th></th><th scope=col>A_Name_Ch</th><th scope=col>A_Summary</th><th scope=col>A_Keywords</th><th scope=col>A_AlsoKnown</th><th scope=col>A_Geo</th><th scope=col>A_Location</th><th scope=col>A_POIGroup</th><th scope=col>A_Name_En</th><th scope=col>A_Name_Latin</th><th scope=col>A_Phylum</th><th scope=col>⋯</th><th scope=col>A_pdf02_URL</th><th scope=col>A_Voice01_ALT</th><th scope=col>A_Voice01_URL</th><th scope=col>A_Voice02_ALT</th><th scope=col>A_Voice02_URL</th><th scope=col>A_Voice03_ALT</th><th scope=col>A_Voice03_URL</th><th scope=col>A_Vedio_URL</th><th scope=col>A_Update</th><th scope=col>A_CID</th></tr>\n",
              "\t<tr><th></th><th scope=col>&lt;chr&gt;</th><th scope=col>&lt;chr&gt;</th><th scope=col>&lt;chr&gt;</th><th scope=col>&lt;chr&gt;</th><th scope=col>&lt;chr&gt;</th><th scope=col>&lt;chr&gt;</th><th scope=col>&lt;chr&gt;</th><th scope=col>&lt;chr&gt;</th><th scope=col>&lt;chr&gt;</th><th scope=col>&lt;chr&gt;</th><th scope=col>⋯</th><th scope=col>&lt;chr&gt;</th><th scope=col>&lt;chr&gt;</th><th scope=col>&lt;chr&gt;</th><th scope=col>&lt;chr&gt;</th><th scope=col>&lt;chr&gt;</th><th scope=col>&lt;chr&gt;</th><th scope=col>&lt;chr&gt;</th><th scope=col>&lt;chr&gt;</th><th scope=col>&lt;chr&gt;</th><th scope=col>&lt;int&gt;</th></tr>\n",
              "</thead>\n",
              "<tbody>\n",
              "\t<tr><th scope=row>2</th><td>國王企鵝</td><td></td><td>企鵝；國王企鵝</td><td></td><td>MULTIPOINT ((121.5907654 24.9931338))</td><td>企鵝館</td><td></td><td>King Penguin   </td><td>Aptenodytes patagonicus</td><td>脊索動物門</td><td>⋯</td><td></td><td></td><td></td><td></td><td></td><td></td><td></td><td>https://www.youtube.com/playlist?list=PLWYak5Af5-DuSoWNgHVIi8vH8AlN6Rzg4</td><td>2017/9/29</td><td>2</td></tr>\n",
              "\t<tr><th scope=row>3</th><td>黑腳企鵝</td><td></td><td>              </td><td></td><td>MULTIPOINT ((121.5910631 24.9928761))</td><td>企鵝館</td><td></td><td>Jackass penguin</td><td>Spheniscus demersu     </td><td>脊索動物門</td><td>⋯</td><td></td><td></td><td></td><td></td><td></td><td></td><td></td><td>https://www.youtube.com/playlist?list=PLWYak5Af5-Dvty-i1vf2Qi3_pHasXp3LI</td><td>2017/9/29</td><td>3</td></tr>\n",
              "</tbody>\n",
              "</table>\n"
            ]
          },
          "metadata": {
            "tags": []
          }
        }
      ]
    },
    {
      "cell_type": "code",
      "metadata": {
        "id": "CZgJbsjid_f1",
        "outputId": "db7c22ad-eb3f-4d76-e7df-cfe1d4d087a8",
        "colab": {
          "base_uri": "https://localhost:8080/",
          "height": 541
        }
      },
      "source": [
        "dataset[grep(\"蛙\", dataset$A_Name_Ch),]"
      ],
      "execution_count": 20,
      "outputs": [
        {
          "output_type": "display_data",
          "data": {
            "text/plain": [
              "    A_Name_Ch  A_Summary A_Keywords A_AlsoKnown\n",
              "65  莫氏樹蛙                                   \n",
              "73  圓眼珍珠蛙                                 \n",
              "74  飾紋角蛙                                   \n",
              "78  翡翠樹蛙                                   \n",
              "360 金色箭毒蛙                                 \n",
              "361 黃帶箭毒蛙                                 \n",
              "362 迷彩箭毒蛙                                 \n",
              "363 鈷藍箭毒蛙                                 \n",
              "    A_Geo                                 A_Location              \n",
              "65  MULTIPOINT ((121.5898494 24.9940697)) 兩棲爬蟲動物館          \n",
              "73  MULTIPOINT ((121.5898494 24.9940697)) 兩棲爬蟲動物館          \n",
              "74  MULTIPOINT ((121.5898494 24.9940697)) 兩棲爬蟲動物館          \n",
              "78  MULTIPOINT ((121.5898494 24.9940697)) 兩棲爬蟲動物館          \n",
              "360 MULTIPOINT ((121.5832747 24.9958021)) 熱帶雨林室內館(穿山甲館)\n",
              "361 MULTIPOINT ((121.5832747 24.9958021)) 熱帶雨林室內館(穿山甲館)\n",
              "362 MULTIPOINT ((121.5832747 24.9958021)) 熱帶雨林室內館(穿山甲館)\n",
              "363 MULTIPOINT ((121.5832747 24.9958021)) 熱帶雨林室內館(穿山甲館)\n",
              "    A_POIGroup     A_Name_En                         A_Name_Latin          \n",
              "65  兩棲爬蟲動物館 Moltrecht’s green treefrog        Rhacophorus moltrechti\n",
              "73  兩棲爬蟲動物館 Budgett's frog                    Lepidobatrachus laevis\n",
              "74  兩棲爬蟲動物館 Ornate horned frog                Ceratophrys ornata    \n",
              "78  兩棲爬蟲動物館  Emerald green tree frog          Rhacophorus prasinatus\n",
              "360                Golden Poison Frog                Phyllobates terribilis\n",
              "361                Yellow-headed Poison Frog         Dendrobates leucomelas\n",
              "362                Green and Black Poison-arrow Frog Dendrobates auratus   \n",
              "363                Dyeing Poison-arrow Frog          Dendrobates tinctorius\n",
              "    A_Phylum    ⋯ A_pdf02_URL A_Voice01_ALT A_Voice01_URL A_Voice02_ALT\n",
              "65  脊索動物門  ⋯                                                      \n",
              "73  脊索動物門  ⋯                                                      \n",
              "74  脊索動物門  ⋯                                                      \n",
              "78  脊索動物門  ⋯                                                      \n",
              "360 ?脊索動物門 ⋯                                                      \n",
              "361 脊索動物門  ⋯                                                      \n",
              "362 脊索動物門  ⋯                                                      \n",
              "363 脊索動物門  ⋯                                                      \n",
              "    A_Voice02_URL A_Voice03_ALT A_Voice03_URL\n",
              "65                                           \n",
              "73                                           \n",
              "74                                           \n",
              "78                                           \n",
              "360                                          \n",
              "361                                          \n",
              "362                                          \n",
              "363                                          \n",
              "    A_Vedio_URL                                                             \n",
              "65  https://www.youtube.com/playlist?list=PLWYak5Af5-DsI0VcGEZspDS1JIwL5dmvF\n",
              "73                                                                          \n",
              "74                                                                          \n",
              "78                                                                          \n",
              "360                                                                         \n",
              "361                                                                         \n",
              "362                                                                         \n",
              "363                                                                         \n",
              "    A_Update   A_CID\n",
              "65  2017/9/29  68   \n",
              "73  2015/11/23 76   \n",
              "74  2015/11/23 77   \n",
              "78  2015/11/23 81   \n",
              "360            NA   \n",
              "361            NA   \n",
              "362            NA   \n",
              "363            NA   "
            ],
            "text/latex": "A data.frame: 8 × 46\n\\begin{tabular}{r|lllllllllllllllllllll}\n  & A\\_Name\\_Ch & A\\_Summary & A\\_Keywords & A\\_AlsoKnown & A\\_Geo & A\\_Location & A\\_POIGroup & A\\_Name\\_En & A\\_Name\\_Latin & A\\_Phylum & ⋯ & A\\_pdf02\\_URL & A\\_Voice01\\_ALT & A\\_Voice01\\_URL & A\\_Voice02\\_ALT & A\\_Voice02\\_URL & A\\_Voice03\\_ALT & A\\_Voice03\\_URL & A\\_Vedio\\_URL & A\\_Update & A\\_CID\\\\\n  & <chr> & <chr> & <chr> & <chr> & <chr> & <chr> & <chr> & <chr> & <chr> & <chr> & ⋯ & <chr> & <chr> & <chr> & <chr> & <chr> & <chr> & <chr> & <chr> & <chr> & <int>\\\\\n\\hline\n\t65 & 莫氏樹蛙   &  &  &  & MULTIPOINT ((121.5898494 24.9940697)) & 兩棲爬蟲動物館           & 兩棲爬蟲動物館 & Moltrecht’s green treefrog        & Rhacophorus moltrechti & 脊索動物門  & ⋯ &  &  &  &  &  &  &  & https://www.youtube.com/playlist?list=PLWYak5Af5-DsI0VcGEZspDS1JIwL5dmvF & 2017/9/29  & 68\\\\\n\t73 & 圓眼珍珠蛙 &  &  &  & MULTIPOINT ((121.5898494 24.9940697)) & 兩棲爬蟲動物館           & 兩棲爬蟲動物館 & Budgett's frog                    & Lepidobatrachus laevis & 脊索動物門  & ⋯ &  &  &  &  &  &  &  &                                                                          & 2015/11/23 & 76\\\\\n\t74 & 飾紋角蛙   &  &  &  & MULTIPOINT ((121.5898494 24.9940697)) & 兩棲爬蟲動物館           & 兩棲爬蟲動物館 & Ornate horned frog                & Ceratophrys ornata     & 脊索動物門  & ⋯ &  &  &  &  &  &  &  &                                                                          & 2015/11/23 & 77\\\\\n\t78 & 翡翠樹蛙   &  &  &  & MULTIPOINT ((121.5898494 24.9940697)) & 兩棲爬蟲動物館           & 兩棲爬蟲動物館 &  Emerald green tree frog          & Rhacophorus prasinatus & 脊索動物門  & ⋯ &  &  &  &  &  &  &  &                                                                          & 2015/11/23 & 81\\\\\n\t360 & 金色箭毒蛙 &  &  &  & MULTIPOINT ((121.5832747 24.9958021)) & 熱帶雨林室內館(穿山甲館) &                & Golden Poison Frog                & Phyllobates terribilis & ?脊索動物門 & ⋯ &  &  &  &  &  &  &  &                                                                          &            & NA\\\\\n\t361 & 黃帶箭毒蛙 &  &  &  & MULTIPOINT ((121.5832747 24.9958021)) & 熱帶雨林室內館(穿山甲館) &                & Yellow-headed Poison Frog         & Dendrobates leucomelas & 脊索動物門  & ⋯ &  &  &  &  &  &  &  &                                                                          &            & NA\\\\\n\t362 & 迷彩箭毒蛙 &  &  &  & MULTIPOINT ((121.5832747 24.9958021)) & 熱帶雨林室內館(穿山甲館) &                & Green and Black Poison-arrow Frog & Dendrobates auratus    & 脊索動物門  & ⋯ &  &  &  &  &  &  &  &                                                                          &            & NA\\\\\n\t363 & 鈷藍箭毒蛙 &  &  &  & MULTIPOINT ((121.5832747 24.9958021)) & 熱帶雨林室內館(穿山甲館) &                & Dyeing Poison-arrow Frog          & Dendrobates tinctorius & 脊索動物門  & ⋯ &  &  &  &  &  &  &  &                                                                          &            & NA\\\\\n\\end{tabular}\n",
            "text/markdown": "\nA data.frame: 8 × 46\n\n| <!--/--> | A_Name_Ch &lt;chr&gt; | A_Summary &lt;chr&gt; | A_Keywords &lt;chr&gt; | A_AlsoKnown &lt;chr&gt; | A_Geo &lt;chr&gt; | A_Location &lt;chr&gt; | A_POIGroup &lt;chr&gt; | A_Name_En &lt;chr&gt; | A_Name_Latin &lt;chr&gt; | A_Phylum &lt;chr&gt; | ⋯ ⋯ | A_pdf02_URL &lt;chr&gt; | A_Voice01_ALT &lt;chr&gt; | A_Voice01_URL &lt;chr&gt; | A_Voice02_ALT &lt;chr&gt; | A_Voice02_URL &lt;chr&gt; | A_Voice03_ALT &lt;chr&gt; | A_Voice03_URL &lt;chr&gt; | A_Vedio_URL &lt;chr&gt; | A_Update &lt;chr&gt; | A_CID &lt;int&gt; |\n|---|---|---|---|---|---|---|---|---|---|---|---|---|---|---|---|---|---|---|---|---|---|\n| 65 | 莫氏樹蛙   | <!----> | <!----> | <!----> | MULTIPOINT ((121.5898494 24.9940697)) | 兩棲爬蟲動物館           | 兩棲爬蟲動物館 | Moltrecht’s green treefrog        | Rhacophorus moltrechti | 脊索動物門  | ⋯ | <!----> | <!----> | <!----> | <!----> | <!----> | <!----> | <!----> | https://www.youtube.com/playlist?list=PLWYak5Af5-DsI0VcGEZspDS1JIwL5dmvF | 2017/9/29  | 68 |\n| 73 | 圓眼珍珠蛙 | <!----> | <!----> | <!----> | MULTIPOINT ((121.5898494 24.9940697)) | 兩棲爬蟲動物館           | 兩棲爬蟲動物館 | Budgett's frog                    | Lepidobatrachus laevis | 脊索動物門  | ⋯ | <!----> | <!----> | <!----> | <!----> | <!----> | <!----> | <!----> | <!----> | 2015/11/23 | 76 |\n| 74 | 飾紋角蛙   | <!----> | <!----> | <!----> | MULTIPOINT ((121.5898494 24.9940697)) | 兩棲爬蟲動物館           | 兩棲爬蟲動物館 | Ornate horned frog                | Ceratophrys ornata     | 脊索動物門  | ⋯ | <!----> | <!----> | <!----> | <!----> | <!----> | <!----> | <!----> | <!----> | 2015/11/23 | 77 |\n| 78 | 翡翠樹蛙   | <!----> | <!----> | <!----> | MULTIPOINT ((121.5898494 24.9940697)) | 兩棲爬蟲動物館           | 兩棲爬蟲動物館 |  Emerald green tree frog          | Rhacophorus prasinatus | 脊索動物門  | ⋯ | <!----> | <!----> | <!----> | <!----> | <!----> | <!----> | <!----> | <!----> | 2015/11/23 | 81 |\n| 360 | 金色箭毒蛙 | <!----> | <!----> | <!----> | MULTIPOINT ((121.5832747 24.9958021)) | 熱帶雨林室內館(穿山甲館) | <!----> | Golden Poison Frog                | Phyllobates terribilis | ?脊索動物門 | ⋯ | <!----> | <!----> | <!----> | <!----> | <!----> | <!----> | <!----> | <!----> | <!----> | NA |\n| 361 | 黃帶箭毒蛙 | <!----> | <!----> | <!----> | MULTIPOINT ((121.5832747 24.9958021)) | 熱帶雨林室內館(穿山甲館) | <!----> | Yellow-headed Poison Frog         | Dendrobates leucomelas | 脊索動物門  | ⋯ | <!----> | <!----> | <!----> | <!----> | <!----> | <!----> | <!----> | <!----> | <!----> | NA |\n| 362 | 迷彩箭毒蛙 | <!----> | <!----> | <!----> | MULTIPOINT ((121.5832747 24.9958021)) | 熱帶雨林室內館(穿山甲館) | <!----> | Green and Black Poison-arrow Frog | Dendrobates auratus    | 脊索動物門  | ⋯ | <!----> | <!----> | <!----> | <!----> | <!----> | <!----> | <!----> | <!----> | <!----> | NA |\n| 363 | 鈷藍箭毒蛙 | <!----> | <!----> | <!----> | MULTIPOINT ((121.5832747 24.9958021)) | 熱帶雨林室內館(穿山甲館) | <!----> | Dyeing Poison-arrow Frog          | Dendrobates tinctorius | 脊索動物門  | ⋯ | <!----> | <!----> | <!----> | <!----> | <!----> | <!----> | <!----> | <!----> | <!----> | NA |\n\n",
            "text/html": [
              "<table>\n",
              "<caption>A data.frame: 8 × 46</caption>\n",
              "<thead>\n",
              "\t<tr><th></th><th scope=col>A_Name_Ch</th><th scope=col>A_Summary</th><th scope=col>A_Keywords</th><th scope=col>A_AlsoKnown</th><th scope=col>A_Geo</th><th scope=col>A_Location</th><th scope=col>A_POIGroup</th><th scope=col>A_Name_En</th><th scope=col>A_Name_Latin</th><th scope=col>A_Phylum</th><th scope=col>⋯</th><th scope=col>A_pdf02_URL</th><th scope=col>A_Voice01_ALT</th><th scope=col>A_Voice01_URL</th><th scope=col>A_Voice02_ALT</th><th scope=col>A_Voice02_URL</th><th scope=col>A_Voice03_ALT</th><th scope=col>A_Voice03_URL</th><th scope=col>A_Vedio_URL</th><th scope=col>A_Update</th><th scope=col>A_CID</th></tr>\n",
              "\t<tr><th></th><th scope=col>&lt;chr&gt;</th><th scope=col>&lt;chr&gt;</th><th scope=col>&lt;chr&gt;</th><th scope=col>&lt;chr&gt;</th><th scope=col>&lt;chr&gt;</th><th scope=col>&lt;chr&gt;</th><th scope=col>&lt;chr&gt;</th><th scope=col>&lt;chr&gt;</th><th scope=col>&lt;chr&gt;</th><th scope=col>&lt;chr&gt;</th><th scope=col>⋯</th><th scope=col>&lt;chr&gt;</th><th scope=col>&lt;chr&gt;</th><th scope=col>&lt;chr&gt;</th><th scope=col>&lt;chr&gt;</th><th scope=col>&lt;chr&gt;</th><th scope=col>&lt;chr&gt;</th><th scope=col>&lt;chr&gt;</th><th scope=col>&lt;chr&gt;</th><th scope=col>&lt;chr&gt;</th><th scope=col>&lt;int&gt;</th></tr>\n",
              "</thead>\n",
              "<tbody>\n",
              "\t<tr><th scope=row>65</th><td>莫氏樹蛙  </td><td></td><td></td><td></td><td>MULTIPOINT ((121.5898494 24.9940697))</td><td>兩棲爬蟲動物館          </td><td>兩棲爬蟲動物館</td><td>Moltrecht’s green treefrog       </td><td>Rhacophorus moltrechti</td><td>脊索動物門 </td><td>⋯</td><td></td><td></td><td></td><td></td><td></td><td></td><td></td><td>https://www.youtube.com/playlist?list=PLWYak5Af5-DsI0VcGEZspDS1JIwL5dmvF</td><td>2017/9/29 </td><td>68</td></tr>\n",
              "\t<tr><th scope=row>73</th><td>圓眼珍珠蛙</td><td></td><td></td><td></td><td>MULTIPOINT ((121.5898494 24.9940697))</td><td>兩棲爬蟲動物館          </td><td>兩棲爬蟲動物館</td><td>Budgett's frog                   </td><td>Lepidobatrachus laevis</td><td>脊索動物門 </td><td>⋯</td><td></td><td></td><td></td><td></td><td></td><td></td><td></td><td>                                                                        </td><td>2015/11/23</td><td>76</td></tr>\n",
              "\t<tr><th scope=row>74</th><td>飾紋角蛙  </td><td></td><td></td><td></td><td>MULTIPOINT ((121.5898494 24.9940697))</td><td>兩棲爬蟲動物館          </td><td>兩棲爬蟲動物館</td><td>Ornate horned frog               </td><td>Ceratophrys ornata    </td><td>脊索動物門 </td><td>⋯</td><td></td><td></td><td></td><td></td><td></td><td></td><td></td><td>                                                                        </td><td>2015/11/23</td><td>77</td></tr>\n",
              "\t<tr><th scope=row>78</th><td>翡翠樹蛙  </td><td></td><td></td><td></td><td>MULTIPOINT ((121.5898494 24.9940697))</td><td>兩棲爬蟲動物館          </td><td>兩棲爬蟲動物館</td><td> Emerald green tree frog         </td><td>Rhacophorus prasinatus</td><td>脊索動物門 </td><td>⋯</td><td></td><td></td><td></td><td></td><td></td><td></td><td></td><td>                                                                        </td><td>2015/11/23</td><td>81</td></tr>\n",
              "\t<tr><th scope=row>360</th><td>金色箭毒蛙</td><td></td><td></td><td></td><td>MULTIPOINT ((121.5832747 24.9958021))</td><td>熱帶雨林室內館(穿山甲館)</td><td>              </td><td>Golden Poison Frog               </td><td>Phyllobates terribilis</td><td>?脊索動物門</td><td>⋯</td><td></td><td></td><td></td><td></td><td></td><td></td><td></td><td>                                                                        </td><td>          </td><td>NA</td></tr>\n",
              "\t<tr><th scope=row>361</th><td>黃帶箭毒蛙</td><td></td><td></td><td></td><td>MULTIPOINT ((121.5832747 24.9958021))</td><td>熱帶雨林室內館(穿山甲館)</td><td>              </td><td>Yellow-headed Poison Frog        </td><td>Dendrobates leucomelas</td><td>脊索動物門 </td><td>⋯</td><td></td><td></td><td></td><td></td><td></td><td></td><td></td><td>                                                                        </td><td>          </td><td>NA</td></tr>\n",
              "\t<tr><th scope=row>362</th><td>迷彩箭毒蛙</td><td></td><td></td><td></td><td>MULTIPOINT ((121.5832747 24.9958021))</td><td>熱帶雨林室內館(穿山甲館)</td><td>              </td><td>Green and Black Poison-arrow Frog</td><td>Dendrobates auratus   </td><td>脊索動物門 </td><td>⋯</td><td></td><td></td><td></td><td></td><td></td><td></td><td></td><td>                                                                        </td><td>          </td><td>NA</td></tr>\n",
              "\t<tr><th scope=row>363</th><td>鈷藍箭毒蛙</td><td></td><td></td><td></td><td>MULTIPOINT ((121.5832747 24.9958021))</td><td>熱帶雨林室內館(穿山甲館)</td><td>              </td><td>Dyeing Poison-arrow Frog         </td><td>Dendrobates tinctorius</td><td>脊索動物門 </td><td>⋯</td><td></td><td></td><td></td><td></td><td></td><td></td><td></td><td>                                                                        </td><td>          </td><td>NA</td></tr>\n",
              "</tbody>\n",
              "</table>\n"
            ]
          },
          "metadata": {
            "tags": []
          }
        }
      ]
    },
    {
      "cell_type": "code",
      "metadata": {
        "id": "HwRLfP3Nd_iI",
        "outputId": "5555e94a-464c-46a1-d2b1-205498364fe2",
        "colab": {
          "base_uri": "https://localhost:8080/",
          "height": 256
        }
      },
      "source": [
        "dataset[grep(\"虎\", dataset$A_Name_Ch),]"
      ],
      "execution_count": 22,
      "outputs": [
        {
          "output_type": "display_data",
          "data": {
            "text/plain": [
              "    A_Name_Ch A_Summary A_Keywords A_AlsoKnown\n",
              "12  孟加拉虎            老虎                  \n",
              "56  豹紋瞼虎                                  \n",
              "322 石虎                                      \n",
              "    A_Geo                                 A_Location     A_POIGroup    \n",
              "12  MULTIPOINT ((121.5832372 24.9941782)) 熱帶雨林區                   \n",
              "56  MULTIPOINT ((121.5898494 24.9940697)) 兩棲爬蟲動物館 兩棲爬蟲動物館\n",
              "322 MULTIPOINT ((121.5809003 24.9971255)) 臺灣動物區                   \n",
              "    A_Name_En     A_Name_Latin                A_Phylum   ⋯ A_pdf02_URL\n",
              "12  Bengal tiger  Panthera tigris tigris      脊索動物門 ⋯            \n",
              "56  Leopard gecko Eublepharis macularius      脊索動物門 ⋯            \n",
              "322 Leopard Cat   Felis bengalensis chinensis 脊索動物門 ⋯            \n",
              "    A_Voice01_ALT A_Voice01_URL A_Voice02_ALT A_Voice02_URL A_Voice03_ALT\n",
              "12                                                                       \n",
              "56                                                                       \n",
              "322                                                                      \n",
              "    A_Voice03_URL\n",
              "12               \n",
              "56               \n",
              "322              \n",
              "    A_Vedio_URL                                                             \n",
              "12  https://www.youtube.com/playlist?list=PLWYak5Af5-DuRjK-JM9C47NtwvOcbxsRh\n",
              "56  https://www.youtube.com/playlist?list=PLWYak5Af5-DtsKFP-qcGQh7Zu518rItX7\n",
              "322 https://www.youtube.com/playlist?list=PLWYak5Af5-Dt7HISiObQyDT8kndhjBPmQ\n",
              "    A_Update  A_CID\n",
              "12  2017/9/29  11  \n",
              "56  2017/9/29  60  \n",
              "322 2017/9/29 245  "
            ],
            "text/latex": "A data.frame: 3 × 46\n\\begin{tabular}{r|lllllllllllllllllllll}\n  & A\\_Name\\_Ch & A\\_Summary & A\\_Keywords & A\\_AlsoKnown & A\\_Geo & A\\_Location & A\\_POIGroup & A\\_Name\\_En & A\\_Name\\_Latin & A\\_Phylum & ⋯ & A\\_pdf02\\_URL & A\\_Voice01\\_ALT & A\\_Voice01\\_URL & A\\_Voice02\\_ALT & A\\_Voice02\\_URL & A\\_Voice03\\_ALT & A\\_Voice03\\_URL & A\\_Vedio\\_URL & A\\_Update & A\\_CID\\\\\n  & <chr> & <chr> & <chr> & <chr> & <chr> & <chr> & <chr> & <chr> & <chr> & <chr> & ⋯ & <chr> & <chr> & <chr> & <chr> & <chr> & <chr> & <chr> & <chr> & <chr> & <int>\\\\\n\\hline\n\t12 & 孟加拉虎 &  & 老虎 &  & MULTIPOINT ((121.5832372 24.9941782)) & 熱帶雨林區     &                & Bengal tiger  & Panthera tigris tigris      & 脊索動物門 & ⋯ &  &  &  &  &  &  &  & https://www.youtube.com/playlist?list=PLWYak5Af5-DuRjK-JM9C47NtwvOcbxsRh & 2017/9/29 &  11\\\\\n\t56 & 豹紋瞼虎 &  &      &  & MULTIPOINT ((121.5898494 24.9940697)) & 兩棲爬蟲動物館 & 兩棲爬蟲動物館 & Leopard gecko & Eublepharis macularius      & 脊索動物門 & ⋯ &  &  &  &  &  &  &  & https://www.youtube.com/playlist?list=PLWYak5Af5-DtsKFP-qcGQh7Zu518rItX7 & 2017/9/29 &  60\\\\\n\t322 & 石虎     &  &      &  & MULTIPOINT ((121.5809003 24.9971255)) & 臺灣動物區     &                & Leopard Cat   & Felis bengalensis chinensis & 脊索動物門 & ⋯ &  &  &  &  &  &  &  & https://www.youtube.com/playlist?list=PLWYak5Af5-Dt7HISiObQyDT8kndhjBPmQ & 2017/9/29 & 245\\\\\n\\end{tabular}\n",
            "text/markdown": "\nA data.frame: 3 × 46\n\n| <!--/--> | A_Name_Ch &lt;chr&gt; | A_Summary &lt;chr&gt; | A_Keywords &lt;chr&gt; | A_AlsoKnown &lt;chr&gt; | A_Geo &lt;chr&gt; | A_Location &lt;chr&gt; | A_POIGroup &lt;chr&gt; | A_Name_En &lt;chr&gt; | A_Name_Latin &lt;chr&gt; | A_Phylum &lt;chr&gt; | ⋯ ⋯ | A_pdf02_URL &lt;chr&gt; | A_Voice01_ALT &lt;chr&gt; | A_Voice01_URL &lt;chr&gt; | A_Voice02_ALT &lt;chr&gt; | A_Voice02_URL &lt;chr&gt; | A_Voice03_ALT &lt;chr&gt; | A_Voice03_URL &lt;chr&gt; | A_Vedio_URL &lt;chr&gt; | A_Update &lt;chr&gt; | A_CID &lt;int&gt; |\n|---|---|---|---|---|---|---|---|---|---|---|---|---|---|---|---|---|---|---|---|---|---|\n| 12 | 孟加拉虎 | <!----> | 老虎 | <!----> | MULTIPOINT ((121.5832372 24.9941782)) | 熱帶雨林區     | <!----> | Bengal tiger  | Panthera tigris tigris      | 脊索動物門 | ⋯ | <!----> | <!----> | <!----> | <!----> | <!----> | <!----> | <!----> | https://www.youtube.com/playlist?list=PLWYak5Af5-DuRjK-JM9C47NtwvOcbxsRh | 2017/9/29 |  11 |\n| 56 | 豹紋瞼虎 | <!----> | <!----> | <!----> | MULTIPOINT ((121.5898494 24.9940697)) | 兩棲爬蟲動物館 | 兩棲爬蟲動物館 | Leopard gecko | Eublepharis macularius      | 脊索動物門 | ⋯ | <!----> | <!----> | <!----> | <!----> | <!----> | <!----> | <!----> | https://www.youtube.com/playlist?list=PLWYak5Af5-DtsKFP-qcGQh7Zu518rItX7 | 2017/9/29 |  60 |\n| 322 | 石虎     | <!----> | <!----> | <!----> | MULTIPOINT ((121.5809003 24.9971255)) | 臺灣動物區     | <!----> | Leopard Cat   | Felis bengalensis chinensis | 脊索動物門 | ⋯ | <!----> | <!----> | <!----> | <!----> | <!----> | <!----> | <!----> | https://www.youtube.com/playlist?list=PLWYak5Af5-Dt7HISiObQyDT8kndhjBPmQ | 2017/9/29 | 245 |\n\n",
            "text/html": [
              "<table>\n",
              "<caption>A data.frame: 3 × 46</caption>\n",
              "<thead>\n",
              "\t<tr><th></th><th scope=col>A_Name_Ch</th><th scope=col>A_Summary</th><th scope=col>A_Keywords</th><th scope=col>A_AlsoKnown</th><th scope=col>A_Geo</th><th scope=col>A_Location</th><th scope=col>A_POIGroup</th><th scope=col>A_Name_En</th><th scope=col>A_Name_Latin</th><th scope=col>A_Phylum</th><th scope=col>⋯</th><th scope=col>A_pdf02_URL</th><th scope=col>A_Voice01_ALT</th><th scope=col>A_Voice01_URL</th><th scope=col>A_Voice02_ALT</th><th scope=col>A_Voice02_URL</th><th scope=col>A_Voice03_ALT</th><th scope=col>A_Voice03_URL</th><th scope=col>A_Vedio_URL</th><th scope=col>A_Update</th><th scope=col>A_CID</th></tr>\n",
              "\t<tr><th></th><th scope=col>&lt;chr&gt;</th><th scope=col>&lt;chr&gt;</th><th scope=col>&lt;chr&gt;</th><th scope=col>&lt;chr&gt;</th><th scope=col>&lt;chr&gt;</th><th scope=col>&lt;chr&gt;</th><th scope=col>&lt;chr&gt;</th><th scope=col>&lt;chr&gt;</th><th scope=col>&lt;chr&gt;</th><th scope=col>&lt;chr&gt;</th><th scope=col>⋯</th><th scope=col>&lt;chr&gt;</th><th scope=col>&lt;chr&gt;</th><th scope=col>&lt;chr&gt;</th><th scope=col>&lt;chr&gt;</th><th scope=col>&lt;chr&gt;</th><th scope=col>&lt;chr&gt;</th><th scope=col>&lt;chr&gt;</th><th scope=col>&lt;chr&gt;</th><th scope=col>&lt;chr&gt;</th><th scope=col>&lt;int&gt;</th></tr>\n",
              "</thead>\n",
              "<tbody>\n",
              "\t<tr><th scope=row>12</th><td>孟加拉虎</td><td></td><td>老虎</td><td></td><td>MULTIPOINT ((121.5832372 24.9941782))</td><td>熱帶雨林區    </td><td>              </td><td>Bengal tiger </td><td>Panthera tigris tigris     </td><td>脊索動物門</td><td>⋯</td><td></td><td></td><td></td><td></td><td></td><td></td><td></td><td>https://www.youtube.com/playlist?list=PLWYak5Af5-DuRjK-JM9C47NtwvOcbxsRh</td><td>2017/9/29</td><td> 11</td></tr>\n",
              "\t<tr><th scope=row>56</th><td>豹紋瞼虎</td><td></td><td>    </td><td></td><td>MULTIPOINT ((121.5898494 24.9940697))</td><td>兩棲爬蟲動物館</td><td>兩棲爬蟲動物館</td><td>Leopard gecko</td><td>Eublepharis macularius     </td><td>脊索動物門</td><td>⋯</td><td></td><td></td><td></td><td></td><td></td><td></td><td></td><td>https://www.youtube.com/playlist?list=PLWYak5Af5-DtsKFP-qcGQh7Zu518rItX7</td><td>2017/9/29</td><td> 60</td></tr>\n",
              "\t<tr><th scope=row>322</th><td>石虎    </td><td></td><td>    </td><td></td><td>MULTIPOINT ((121.5809003 24.9971255))</td><td>臺灣動物區    </td><td>              </td><td>Leopard Cat  </td><td>Felis bengalensis chinensis</td><td>脊索動物門</td><td>⋯</td><td></td><td></td><td></td><td></td><td></td><td></td><td></td><td>https://www.youtube.com/playlist?list=PLWYak5Af5-Dt7HISiObQyDT8kndhjBPmQ</td><td>2017/9/29</td><td>245</td></tr>\n",
              "</tbody>\n",
              "</table>\n"
            ]
          },
          "metadata": {
            "tags": []
          }
        }
      ]
    },
    {
      "cell_type": "code",
      "metadata": {
        "id": "ZBYS3wREe4rN",
        "outputId": "7cd74548-09c6-4682-aa58-b8735ba0183b",
        "colab": {
          "base_uri": "https://localhost:8080/",
          "height": 1000
        }
      },
      "source": [
        "dataset[grep(\"龜\", dataset$A_Name_Ch),]"
      ],
      "execution_count": 23,
      "outputs": [
        {
          "output_type": "display_data",
          "data": {
            "text/plain": [
              "    A_Name_Ch    A_Summary A_Keywords A_AlsoKnown\n",
              "35  卡羅萊納箱龜                                 \n",
              "36  四爪陸龜                                     \n",
              "38  印度星龜                                     \n",
              "42  亞洲棕龜                                     \n",
              "43  亞達伯拉象龜                                 \n",
              "46  扁頭長頸龜                                   \n",
              "50  紅腹側頸龜                                   \n",
              "51  紅腿象龜                                     \n",
              "53  食蛇龜                                       \n",
              "54  射紋陸龜                                     \n",
              "55  豹紋象龜                                     \n",
              "66  斑龜                                         \n",
              "71  黃頭象龜                                     \n",
              "80  赫曼氏陸龜                                   \n",
              "81  歐洲陸龜                                     \n",
              "83  緬甸星龜                                     \n",
              "84  豬鼻龜                                       \n",
              "88  鱷龜                                         \n",
              "90  蘇卡達象龜                                   \n",
              "92  黃頭陸龜                                     \n",
              "315 紅耳龜                                       \n",
              "325 食蛇龜                                       \n",
              "350 黃腿象龜                                     \n",
              "    A_Geo                                                                                  \n",
              "35  MULTIPOINT ((121.5898494 24.9940697))                                                  \n",
              "36  MULTIPOINT ((121.5898494 24.9940697))                                                  \n",
              "38  MULTIPOINT ((121.5898494 24.9940697))                                                  \n",
              "42  MULTIPOINT ((121.5898494 24.9940697))                                                  \n",
              "43  MULTIPOINT ((121.5898494 24.9940697))                                                  \n",
              "46  MULTIPOINT ((121.5898494 24.9940697))                                                  \n",
              "50  MULTIPOINT ((121.5898494 24.9940697))                                                  \n",
              "51  MULTIPOINT ((121.5833432 24.9960747),(121.5901453 24.9946356))                         \n",
              "53  MULTIPOINT ((121.5898494 24.9940697))                                                  \n",
              "54  MULTIPOINT ((121.5833766 24.9960938),(121.5898494 24.9940697))                         \n",
              "55  MULTIPOINT ((121.5898494 24.9940697))                                                  \n",
              "66  MULTIPOINT ((121.5898494 24.9940697))                                                  \n",
              "71  MULTIPOINT ((121.5898494 24.9940697))                                                  \n",
              "80  MULTIPOINT ((121.5898494 24.9940697))                                                  \n",
              "81  MULTIPOINT ((121.5898494 24.9940697))                                                  \n",
              "83  MULTIPOINT ((121.5898494 24.9940697))                                                  \n",
              "84  MULTIPOINT ((121.5898494 24.9940697))                                                  \n",
              "88  MULTIPOINT ((121.5898494 24.9940697))                                                  \n",
              "90  MULTIPOINT ((121.5898494 24.9940697), (121.586726 24.994559), (121.5873295 24.9946641))\n",
              "92                                                                                         \n",
              "315 MULTIPOINT ((121.5902773 24.9931994))                                                  \n",
              "325 MULTIPOINT ((121.5809552 24.9971802))                                                  \n",
              "350 MULTIPOINT ((121.5832694 24.9958507))                                                  \n",
              "    A_Location                              A_POIGroup    \n",
              "35  兩棲爬蟲動物館                          兩棲爬蟲動物館\n",
              "36  兩棲爬蟲動物館                          兩棲爬蟲動物館\n",
              "38  兩棲爬蟲動物館                          兩棲爬蟲動物館\n",
              "42  兩棲爬蟲動物館                          兩棲爬蟲動物館\n",
              "43  兩棲爬蟲動物館                          兩棲爬蟲動物館\n",
              "46  兩棲爬蟲動物館                          兩棲爬蟲動物館\n",
              "50  兩棲爬蟲動物館                          兩棲爬蟲動物館\n",
              "51  熱帶雨林室內館(穿山甲館);兩棲爬蟲動物館               \n",
              "53  兩棲爬蟲動物館                          兩棲爬蟲動物館\n",
              "54  熱帶雨林室內館(穿山甲館);兩棲爬蟲動物館               \n",
              "55  兩棲爬蟲動物館                          兩棲爬蟲動物館\n",
              "66  兩棲爬蟲動物館                          兩棲爬蟲動物館\n",
              "71  兩棲爬蟲動物館                          兩棲爬蟲動物館\n",
              "80  兩棲爬蟲動物館                          兩棲爬蟲動物館\n",
              "81  兩棲爬蟲動物館                          兩棲爬蟲動物館\n",
              "83  兩棲爬蟲動物館                          兩棲爬蟲動物館\n",
              "84  兩棲爬蟲動物館                          兩棲爬蟲動物館\n",
              "88  兩棲爬蟲動物館                          兩棲爬蟲動物館\n",
              "90  兩棲爬蟲動物館;非洲動物區               兩棲爬蟲動物館\n",
              "92  兩棲爬蟲動物館                          兩棲爬蟲動物館\n",
              "315 溫帶動物區                                            \n",
              "325 臺灣動物區                                            \n",
              "350 熱帶雨林室內館(穿山甲館)                              \n",
              "    A_Name_En                       A_Name_Latin                A_Phylum   ⋯\n",
              "35  Common box turtle               Terrapene carolina          脊索動物門 ⋯\n",
              "36  Horsfield's tortoise            Testudo horsfieldi          脊索動物門 ⋯\n",
              "38  Indian star tortoise            Geochelone elegans          脊索動物門 ⋯\n",
              "42  Asian brown tortoise            Manouria emys               脊索動物門 ⋯\n",
              "43  Aldabra Giant Tortoise          Geochelone gigantea         脊索動物門 ⋯\n",
              "46  Siebenrock’s side-necked turtle Chelodina siebenrocki       脊索動物門 ⋯\n",
              "50  Red-bellied short-neck turtle   Emydura subglobosa          脊索動物門 ⋯\n",
              "51  Red-foot tortoise               Chelonoidis carbonarius     脊索動物門 ⋯\n",
              "53  Yellow-margined box turtle      Cistoclemmys flavomarginata 脊索動物門 ⋯\n",
              "54  Radiated tortoise               Astrochelys radiata         脊索動物門 ⋯\n",
              "55  Leopard tortoise                Geochelone pardalis         脊索動物門 ⋯\n",
              "66  Chinese striped-neck turtle     Ocadia sinensis             脊索動物門 ⋯\n",
              "71  Yellow-headed tortoise          Indotestudo elongata        脊索動物門 ⋯\n",
              "80  Hermann’s tortoise              Testudo hermanni            脊索動物門 ⋯\n",
              "81  Spur-thighed tortoise           Testudo gracea              脊索動物門 ⋯\n",
              "83  Burmese star tortoise           Geochelone platynota        脊索動物門 ⋯\n",
              "84  Pig-nosed turtle                Carettochelys insculpta     脊索動物門 ⋯\n",
              "88  Alligator snapping turtle       Macroclemys temminckii      脊索動物門 ⋯\n",
              "90  African spurred tortoise        Geochelone sulcata          脊索動物門 ⋯\n",
              "92  Elongate tortoise?              Indotestudo elongata        脊索動物門 ⋯\n",
              "315 Red-eared slider                Trachemys scripta elegans   脊索動物門 ⋯\n",
              "325 Yellow-margined box turtle      Cistoclemmys flavomarginata 脊索動物門 ⋯\n",
              "350 Yellow-footed Tortoise          Chelonoidis denticulata     脊索動物門 ⋯\n",
              "    A_pdf02_URL A_Voice01_ALT A_Voice01_URL A_Voice02_ALT A_Voice02_URL\n",
              "35                                                                     \n",
              "36                                                                     \n",
              "38                                                                     \n",
              "42                                                                     \n",
              "43                                                                     \n",
              "46                                                                     \n",
              "50                                                                     \n",
              "51                                                                     \n",
              "53                                                                     \n",
              "54                                                                     \n",
              "55                                                                     \n",
              "66                                                                     \n",
              "71                                                                     \n",
              "80                                                                     \n",
              "81                                                                     \n",
              "83                                                                     \n",
              "84                                                                     \n",
              "88                                                                     \n",
              "90                                                                     \n",
              "92                                                                     \n",
              "315                                                                    \n",
              "325                                                                    \n",
              "350                                                                    \n",
              "    A_Voice03_ALT A_Voice03_URL\n",
              "35                             \n",
              "36                             \n",
              "38                             \n",
              "42                             \n",
              "43                             \n",
              "46                             \n",
              "50                             \n",
              "51                             \n",
              "53                             \n",
              "54                             \n",
              "55                             \n",
              "66                             \n",
              "71                             \n",
              "80                             \n",
              "81                             \n",
              "83                             \n",
              "84                             \n",
              "88                             \n",
              "90                             \n",
              "92                             \n",
              "315                            \n",
              "325                            \n",
              "350                            \n",
              "    A_Vedio_URL                                                             \n",
              "35  https://www.youtube.com/playlist?list=PLWYak5Af5-DtytuL5mjnaBF5uq_eMs1Yk\n",
              "36  https://www.youtube.com/playlist?list=PLWYak5Af5-DvUDf198yfozi9NRREO-cdj\n",
              "38  https://www.youtube.com/playlist?list=PLWYak5Af5-DsBcjwIAgN5oSBzNb5mO9Ga\n",
              "42  https://www.youtube.com/playlist?list=PLWYak5Af5-Du3w2HU6Efbfm52nsU4J4CX\n",
              "43  https://www.youtube.com/playlist?list=PLWYak5Af5-DvPCCV9QQEq3B-Uj4hNcARY\n",
              "46  https://www.youtube.com/playlist?list=PLWYak5Af5-DuSaOSb_7J2dsykitbao-tn\n",
              "50  https://www.youtube.com/playlist?list=PLWYak5Af5-DvFGDvQ3umXnJJvJfgsLsMK\n",
              "51  https://www.youtube.com/playlist?list=PLWYak5Af5-Dvor0zdz2K6SjNskDt8pbzg\n",
              "53  https://www.youtube.com/playlist?list=PLWYak5Af5-DvesG6Nmh0-w50HRB2aGX21\n",
              "54  https://www.youtube.com/playlist?list=PLWYak5Af5-DskYv0yBtCegIz7-AxfW1iw\n",
              "55  https://www.youtube.com/playlist?list=PLWYak5Af5-DsixYqPcjJCKogpcQszfL8B\n",
              "66                                                                          \n",
              "71                                                                          \n",
              "80                                                                          \n",
              "81                                                                          \n",
              "83                                                                          \n",
              "84                                                                          \n",
              "88                                                                          \n",
              "90                                                                          \n",
              "92                                                                          \n",
              "315                                                                         \n",
              "325                                                                         \n",
              "350                                                                         \n",
              "    A_Update   A_CID\n",
              "35  2017/9/29   40  \n",
              "36  2017/9/29   41  \n",
              "38  2017/9/29   43  \n",
              "42  2017/9/29   47  \n",
              "43  2017/9/29   48  \n",
              "46  2017/9/29   51  \n",
              "50  2017/9/29   54  \n",
              "51  2017/9/29   55  \n",
              "53  2017/9/29   57  \n",
              "54  2017/9/29   58  \n",
              "55  2017/9/29   59  \n",
              "66  2015/11/23  69  \n",
              "71  2015/11/23  74  \n",
              "80  2015/11/23  83  \n",
              "81  2015/11/23  84  \n",
              "83  2015/11/23  86  \n",
              "84  2015/11/23  87  \n",
              "88  2015/11/23  91  \n",
              "90  2015/11/23  93  \n",
              "92              NA  \n",
              "315 2015/11/23 239  \n",
              "325 2015/11/23 249  \n",
              "350             NA  "
            ],
            "text/latex": "A data.frame: 23 × 46\n\\begin{tabular}{r|lllllllllllllllllllll}\n  & A\\_Name\\_Ch & A\\_Summary & A\\_Keywords & A\\_AlsoKnown & A\\_Geo & A\\_Location & A\\_POIGroup & A\\_Name\\_En & A\\_Name\\_Latin & A\\_Phylum & ⋯ & A\\_pdf02\\_URL & A\\_Voice01\\_ALT & A\\_Voice01\\_URL & A\\_Voice02\\_ALT & A\\_Voice02\\_URL & A\\_Voice03\\_ALT & A\\_Voice03\\_URL & A\\_Vedio\\_URL & A\\_Update & A\\_CID\\\\\n  & <chr> & <chr> & <chr> & <chr> & <chr> & <chr> & <chr> & <chr> & <chr> & <chr> & ⋯ & <chr> & <chr> & <chr> & <chr> & <chr> & <chr> & <chr> & <chr> & <chr> & <int>\\\\\n\\hline\n\t35 & 卡羅萊納箱龜 &  &  &   & MULTIPOINT ((121.5898494 24.9940697))                                                   & 兩棲爬蟲動物館                          & 兩棲爬蟲動物館 & Common box turtle               & Terrapene carolina          & 脊索動物門 & ⋯ &  &  &  &  &  &  &  & https://www.youtube.com/playlist?list=PLWYak5Af5-DtytuL5mjnaBF5uq\\_eMs1Yk & 2017/9/29  &  40\\\\\n\t36 & 四爪陸龜     &  &  &   & MULTIPOINT ((121.5898494 24.9940697))                                                   & 兩棲爬蟲動物館                          & 兩棲爬蟲動物館 & Horsfield's tortoise            & Testudo horsfieldi          & 脊索動物門 & ⋯ &  &  &  &  &  &  &  & https://www.youtube.com/playlist?list=PLWYak5Af5-DvUDf198yfozi9NRREO-cdj & 2017/9/29  &  41\\\\\n\t38 & 印度星龜     &  &  &   & MULTIPOINT ((121.5898494 24.9940697))                                                   & 兩棲爬蟲動物館                          & 兩棲爬蟲動物館 & Indian star tortoise            & Geochelone elegans          & 脊索動物門 & ⋯ &  &  &  &  &  &  &  & https://www.youtube.com/playlist?list=PLWYak5Af5-DsBcjwIAgN5oSBzNb5mO9Ga & 2017/9/29  &  43\\\\\n\t42 & 亞洲棕龜     &  &  &   & MULTIPOINT ((121.5898494 24.9940697))                                                   & 兩棲爬蟲動物館                          & 兩棲爬蟲動物館 & Asian brown tortoise            & Manouria emys               & 脊索動物門 & ⋯ &  &  &  &  &  &  &  & https://www.youtube.com/playlist?list=PLWYak5Af5-Du3w2HU6Efbfm52nsU4J4CX & 2017/9/29  &  47\\\\\n\t43 & 亞達伯拉象龜 &  &  &   & MULTIPOINT ((121.5898494 24.9940697))                                                   & 兩棲爬蟲動物館                          & 兩棲爬蟲動物館 & Aldabra Giant Tortoise          & Geochelone gigantea         & 脊索動物門 & ⋯ &  &  &  &  &  &  &  & https://www.youtube.com/playlist?list=PLWYak5Af5-DvPCCV9QQEq3B-Uj4hNcARY & 2017/9/29  &  48\\\\\n\t46 & 扁頭長頸龜   &  &  &   & MULTIPOINT ((121.5898494 24.9940697))                                                   & 兩棲爬蟲動物館                          & 兩棲爬蟲動物館 & Siebenrock’s side-necked turtle & Chelodina siebenrocki       & 脊索動物門 & ⋯ &  &  &  &  &  &  &  & https://www.youtube.com/playlist?list=PLWYak5Af5-DuSaOSb\\_7J2dsykitbao-tn & 2017/9/29  &  51\\\\\n\t50 & 紅腹側頸龜   &  &  &   & MULTIPOINT ((121.5898494 24.9940697))                                                   & 兩棲爬蟲動物館                          & 兩棲爬蟲動物館 & Red-bellied short-neck turtle   & Emydura subglobosa          & 脊索動物門 & ⋯ &  &  &  &  &  &  &  & https://www.youtube.com/playlist?list=PLWYak5Af5-DvFGDvQ3umXnJJvJfgsLsMK & 2017/9/29  &  54\\\\\n\t51 & 紅腿象龜     &  &  &   & MULTIPOINT ((121.5833432 24.9960747),(121.5901453 24.9946356))                          & 熱帶雨林室內館(穿山甲館);兩棲爬蟲動物館 &                & Red-foot tortoise               & Chelonoidis carbonarius     & 脊索動物門 & ⋯ &  &  &  &  &  &  &  & https://www.youtube.com/playlist?list=PLWYak5Af5-Dvor0zdz2K6SjNskDt8pbzg & 2017/9/29  &  55\\\\\n\t53 & 食蛇龜       &  &  &   & MULTIPOINT ((121.5898494 24.9940697))                                                   & 兩棲爬蟲動物館                          & 兩棲爬蟲動物館 & Yellow-margined box turtle      & Cistoclemmys flavomarginata & 脊索動物門 & ⋯ &  &  &  &  &  &  &  & https://www.youtube.com/playlist?list=PLWYak5Af5-DvesG6Nmh0-w50HRB2aGX21 & 2017/9/29  &  57\\\\\n\t54 & 射紋陸龜     &  &  &   & MULTIPOINT ((121.5833766 24.9960938),(121.5898494 24.9940697))                          & 熱帶雨林室內館(穿山甲館);兩棲爬蟲動物館 &                & Radiated tortoise               & Astrochelys radiata         & 脊索動物門 & ⋯ &  &  &  &  &  &  &  & https://www.youtube.com/playlist?list=PLWYak5Af5-DskYv0yBtCegIz7-AxfW1iw & 2017/9/29  &  58\\\\\n\t55 & 豹紋象龜     &  &  &   & MULTIPOINT ((121.5898494 24.9940697))                                                   & 兩棲爬蟲動物館                          & 兩棲爬蟲動物館 & Leopard tortoise                & Geochelone pardalis         & 脊索動物門 & ⋯ &  &  &  &  &  &  &  & https://www.youtube.com/playlist?list=PLWYak5Af5-DsixYqPcjJCKogpcQszfL8B & 2017/9/29  &  59\\\\\n\t66 & 斑龜         &  &  &   & MULTIPOINT ((121.5898494 24.9940697))                                                   & 兩棲爬蟲動物館                          & 兩棲爬蟲動物館 & Chinese striped-neck turtle     & Ocadia sinensis             & 脊索動物門 & ⋯ &  &  &  &  &  &  &  &                                                                          & 2015/11/23 &  69\\\\\n\t71 & 黃頭象龜     &  &  &   & MULTIPOINT ((121.5898494 24.9940697))                                                   & 兩棲爬蟲動物館                          & 兩棲爬蟲動物館 & Yellow-headed tortoise          & Indotestudo elongata        & 脊索動物門 & ⋯ &  &  &  &  &  &  &  &                                                                          & 2015/11/23 &  74\\\\\n\t80 & 赫曼氏陸龜   &  &  &   & MULTIPOINT ((121.5898494 24.9940697))                                                   & 兩棲爬蟲動物館                          & 兩棲爬蟲動物館 & Hermann’s tortoise              & Testudo hermanni            & 脊索動物門 & ⋯ &  &  &  &  &  &  &  &                                                                          & 2015/11/23 &  83\\\\\n\t81 & 歐洲陸龜     &  &  &   & MULTIPOINT ((121.5898494 24.9940697))                                                   & 兩棲爬蟲動物館                          & 兩棲爬蟲動物館 & Spur-thighed tortoise           & Testudo gracea              & 脊索動物門 & ⋯ &  &  &  &  &  &  &  &                                                                          & 2015/11/23 &  84\\\\\n\t83 & 緬甸星龜     &  &  &   & MULTIPOINT ((121.5898494 24.9940697))                                                   & 兩棲爬蟲動物館                          & 兩棲爬蟲動物館 & Burmese star tortoise           & Geochelone platynota        & 脊索動物門 & ⋯ &  &  &  &  &  &  &  &                                                                          & 2015/11/23 &  86\\\\\n\t84 & 豬鼻龜       &  &  &   & MULTIPOINT ((121.5898494 24.9940697))                                                   & 兩棲爬蟲動物館                          & 兩棲爬蟲動物館 & Pig-nosed turtle                & Carettochelys insculpta     & 脊索動物門 & ⋯ &  &  &  &  &  &  &  &                                                                          & 2015/11/23 &  87\\\\\n\t88 & 鱷龜         &  &  &   & MULTIPOINT ((121.5898494 24.9940697))                                                   & 兩棲爬蟲動物館                          & 兩棲爬蟲動物館 & Alligator snapping turtle       & Macroclemys temminckii      & 脊索動物門 & ⋯ &  &  &  &  &  &  &  &                                                                          & 2015/11/23 &  91\\\\\n\t90 & 蘇卡達象龜   &  &  &   & MULTIPOINT ((121.5898494 24.9940697), (121.586726 24.994559), (121.5873295 24.9946641)) & 兩棲爬蟲動物館;非洲動物區               & 兩棲爬蟲動物館 & African spurred tortoise        & Geochelone sulcata          & 脊索動物門 & ⋯ &  &  &  &  &  &  &  &                                                                          & 2015/11/23 &  93\\\\\n\t92 & 黃頭陸龜     &  &  &   &                                                                                         & 兩棲爬蟲動物館                          & 兩棲爬蟲動物館 & Elongate tortoise?              & Indotestudo elongata        & 脊索動物門 & ⋯ &  &  &  &  &  &  &  &                                                                          &            &  NA\\\\\n\t315 & 紅耳龜       &  &  &   & MULTIPOINT ((121.5902773 24.9931994))                                                   & 溫帶動物區                              &                & Red-eared slider                & Trachemys scripta elegans   & 脊索動物門 & ⋯ &  &  &  &  &  &  &  &                                                                          & 2015/11/23 & 239\\\\\n\t325 & 食蛇龜       &  &  &   & MULTIPOINT ((121.5809552 24.9971802))                                                   & 臺灣動物區                              &                & Yellow-margined box turtle      & Cistoclemmys flavomarginata & 脊索動物門 & ⋯ &  &  &  &  &  &  &  &                                                                          & 2015/11/23 & 249\\\\\n\t350 & 黃腿象龜     &  &  &   & MULTIPOINT ((121.5832694 24.9958507))                                                   & 熱帶雨林室內館(穿山甲館)                &                & Yellow-footed Tortoise          & Chelonoidis denticulata     & 脊索動物門 & ⋯ &  &  &  &  &  &  &  &                                                                          &            &  NA\\\\\n\\end{tabular}\n",
            "text/markdown": "\nA data.frame: 23 × 46\n\n| <!--/--> | A_Name_Ch &lt;chr&gt; | A_Summary &lt;chr&gt; | A_Keywords &lt;chr&gt; | A_AlsoKnown &lt;chr&gt; | A_Geo &lt;chr&gt; | A_Location &lt;chr&gt; | A_POIGroup &lt;chr&gt; | A_Name_En &lt;chr&gt; | A_Name_Latin &lt;chr&gt; | A_Phylum &lt;chr&gt; | ⋯ ⋯ | A_pdf02_URL &lt;chr&gt; | A_Voice01_ALT &lt;chr&gt; | A_Voice01_URL &lt;chr&gt; | A_Voice02_ALT &lt;chr&gt; | A_Voice02_URL &lt;chr&gt; | A_Voice03_ALT &lt;chr&gt; | A_Voice03_URL &lt;chr&gt; | A_Vedio_URL &lt;chr&gt; | A_Update &lt;chr&gt; | A_CID &lt;int&gt; |\n|---|---|---|---|---|---|---|---|---|---|---|---|---|---|---|---|---|---|---|---|---|---|\n| 35 | 卡羅萊納箱龜 | <!----> | <!----> | <!----> | MULTIPOINT ((121.5898494 24.9940697))                                                   | 兩棲爬蟲動物館                          | 兩棲爬蟲動物館 | Common box turtle               | Terrapene carolina          | 脊索動物門 | ⋯ | <!----> | <!----> | <!----> | <!----> | <!----> | <!----> | <!----> | https://www.youtube.com/playlist?list=PLWYak5Af5-DtytuL5mjnaBF5uq_eMs1Yk | 2017/9/29  |  40 |\n| 36 | 四爪陸龜     | <!----> | <!----> | <!----> | MULTIPOINT ((121.5898494 24.9940697))                                                   | 兩棲爬蟲動物館                          | 兩棲爬蟲動物館 | Horsfield's tortoise            | Testudo horsfieldi          | 脊索動物門 | ⋯ | <!----> | <!----> | <!----> | <!----> | <!----> | <!----> | <!----> | https://www.youtube.com/playlist?list=PLWYak5Af5-DvUDf198yfozi9NRREO-cdj | 2017/9/29  |  41 |\n| 38 | 印度星龜     | <!----> | <!----> | <!----> | MULTIPOINT ((121.5898494 24.9940697))                                                   | 兩棲爬蟲動物館                          | 兩棲爬蟲動物館 | Indian star tortoise            | Geochelone elegans          | 脊索動物門 | ⋯ | <!----> | <!----> | <!----> | <!----> | <!----> | <!----> | <!----> | https://www.youtube.com/playlist?list=PLWYak5Af5-DsBcjwIAgN5oSBzNb5mO9Ga | 2017/9/29  |  43 |\n| 42 | 亞洲棕龜     | <!----> | <!----> | <!----> | MULTIPOINT ((121.5898494 24.9940697))                                                   | 兩棲爬蟲動物館                          | 兩棲爬蟲動物館 | Asian brown tortoise            | Manouria emys               | 脊索動物門 | ⋯ | <!----> | <!----> | <!----> | <!----> | <!----> | <!----> | <!----> | https://www.youtube.com/playlist?list=PLWYak5Af5-Du3w2HU6Efbfm52nsU4J4CX | 2017/9/29  |  47 |\n| 43 | 亞達伯拉象龜 | <!----> | <!----> | <!----> | MULTIPOINT ((121.5898494 24.9940697))                                                   | 兩棲爬蟲動物館                          | 兩棲爬蟲動物館 | Aldabra Giant Tortoise          | Geochelone gigantea         | 脊索動物門 | ⋯ | <!----> | <!----> | <!----> | <!----> | <!----> | <!----> | <!----> | https://www.youtube.com/playlist?list=PLWYak5Af5-DvPCCV9QQEq3B-Uj4hNcARY | 2017/9/29  |  48 |\n| 46 | 扁頭長頸龜   | <!----> | <!----> | <!----> | MULTIPOINT ((121.5898494 24.9940697))                                                   | 兩棲爬蟲動物館                          | 兩棲爬蟲動物館 | Siebenrock’s side-necked turtle | Chelodina siebenrocki       | 脊索動物門 | ⋯ | <!----> | <!----> | <!----> | <!----> | <!----> | <!----> | <!----> | https://www.youtube.com/playlist?list=PLWYak5Af5-DuSaOSb_7J2dsykitbao-tn | 2017/9/29  |  51 |\n| 50 | 紅腹側頸龜   | <!----> | <!----> | <!----> | MULTIPOINT ((121.5898494 24.9940697))                                                   | 兩棲爬蟲動物館                          | 兩棲爬蟲動物館 | Red-bellied short-neck turtle   | Emydura subglobosa          | 脊索動物門 | ⋯ | <!----> | <!----> | <!----> | <!----> | <!----> | <!----> | <!----> | https://www.youtube.com/playlist?list=PLWYak5Af5-DvFGDvQ3umXnJJvJfgsLsMK | 2017/9/29  |  54 |\n| 51 | 紅腿象龜     | <!----> | <!----> | <!----> | MULTIPOINT ((121.5833432 24.9960747),(121.5901453 24.9946356))                          | 熱帶雨林室內館(穿山甲館);兩棲爬蟲動物館 | <!----> | Red-foot tortoise               | Chelonoidis carbonarius     | 脊索動物門 | ⋯ | <!----> | <!----> | <!----> | <!----> | <!----> | <!----> | <!----> | https://www.youtube.com/playlist?list=PLWYak5Af5-Dvor0zdz2K6SjNskDt8pbzg | 2017/9/29  |  55 |\n| 53 | 食蛇龜       | <!----> | <!----> | <!----> | MULTIPOINT ((121.5898494 24.9940697))                                                   | 兩棲爬蟲動物館                          | 兩棲爬蟲動物館 | Yellow-margined box turtle      | Cistoclemmys flavomarginata | 脊索動物門 | ⋯ | <!----> | <!----> | <!----> | <!----> | <!----> | <!----> | <!----> | https://www.youtube.com/playlist?list=PLWYak5Af5-DvesG6Nmh0-w50HRB2aGX21 | 2017/9/29  |  57 |\n| 54 | 射紋陸龜     | <!----> | <!----> | <!----> | MULTIPOINT ((121.5833766 24.9960938),(121.5898494 24.9940697))                          | 熱帶雨林室內館(穿山甲館);兩棲爬蟲動物館 | <!----> | Radiated tortoise               | Astrochelys radiata         | 脊索動物門 | ⋯ | <!----> | <!----> | <!----> | <!----> | <!----> | <!----> | <!----> | https://www.youtube.com/playlist?list=PLWYak5Af5-DskYv0yBtCegIz7-AxfW1iw | 2017/9/29  |  58 |\n| 55 | 豹紋象龜     | <!----> | <!----> | <!----> | MULTIPOINT ((121.5898494 24.9940697))                                                   | 兩棲爬蟲動物館                          | 兩棲爬蟲動物館 | Leopard tortoise                | Geochelone pardalis         | 脊索動物門 | ⋯ | <!----> | <!----> | <!----> | <!----> | <!----> | <!----> | <!----> | https://www.youtube.com/playlist?list=PLWYak5Af5-DsixYqPcjJCKogpcQszfL8B | 2017/9/29  |  59 |\n| 66 | 斑龜         | <!----> | <!----> | <!----> | MULTIPOINT ((121.5898494 24.9940697))                                                   | 兩棲爬蟲動物館                          | 兩棲爬蟲動物館 | Chinese striped-neck turtle     | Ocadia sinensis             | 脊索動物門 | ⋯ | <!----> | <!----> | <!----> | <!----> | <!----> | <!----> | <!----> | <!----> | 2015/11/23 |  69 |\n| 71 | 黃頭象龜     | <!----> | <!----> | <!----> | MULTIPOINT ((121.5898494 24.9940697))                                                   | 兩棲爬蟲動物館                          | 兩棲爬蟲動物館 | Yellow-headed tortoise          | Indotestudo elongata        | 脊索動物門 | ⋯ | <!----> | <!----> | <!----> | <!----> | <!----> | <!----> | <!----> | <!----> | 2015/11/23 |  74 |\n| 80 | 赫曼氏陸龜   | <!----> | <!----> | <!----> | MULTIPOINT ((121.5898494 24.9940697))                                                   | 兩棲爬蟲動物館                          | 兩棲爬蟲動物館 | Hermann’s tortoise              | Testudo hermanni            | 脊索動物門 | ⋯ | <!----> | <!----> | <!----> | <!----> | <!----> | <!----> | <!----> | <!----> | 2015/11/23 |  83 |\n| 81 | 歐洲陸龜     | <!----> | <!----> | <!----> | MULTIPOINT ((121.5898494 24.9940697))                                                   | 兩棲爬蟲動物館                          | 兩棲爬蟲動物館 | Spur-thighed tortoise           | Testudo gracea              | 脊索動物門 | ⋯ | <!----> | <!----> | <!----> | <!----> | <!----> | <!----> | <!----> | <!----> | 2015/11/23 |  84 |\n| 83 | 緬甸星龜     | <!----> | <!----> | <!----> | MULTIPOINT ((121.5898494 24.9940697))                                                   | 兩棲爬蟲動物館                          | 兩棲爬蟲動物館 | Burmese star tortoise           | Geochelone platynota        | 脊索動物門 | ⋯ | <!----> | <!----> | <!----> | <!----> | <!----> | <!----> | <!----> | <!----> | 2015/11/23 |  86 |\n| 84 | 豬鼻龜       | <!----> | <!----> | <!----> | MULTIPOINT ((121.5898494 24.9940697))                                                   | 兩棲爬蟲動物館                          | 兩棲爬蟲動物館 | Pig-nosed turtle                | Carettochelys insculpta     | 脊索動物門 | ⋯ | <!----> | <!----> | <!----> | <!----> | <!----> | <!----> | <!----> | <!----> | 2015/11/23 |  87 |\n| 88 | 鱷龜         | <!----> | <!----> | <!----> | MULTIPOINT ((121.5898494 24.9940697))                                                   | 兩棲爬蟲動物館                          | 兩棲爬蟲動物館 | Alligator snapping turtle       | Macroclemys temminckii      | 脊索動物門 | ⋯ | <!----> | <!----> | <!----> | <!----> | <!----> | <!----> | <!----> | <!----> | 2015/11/23 |  91 |\n| 90 | 蘇卡達象龜   | <!----> | <!----> | <!----> | MULTIPOINT ((121.5898494 24.9940697), (121.586726 24.994559), (121.5873295 24.9946641)) | 兩棲爬蟲動物館;非洲動物區               | 兩棲爬蟲動物館 | African spurred tortoise        | Geochelone sulcata          | 脊索動物門 | ⋯ | <!----> | <!----> | <!----> | <!----> | <!----> | <!----> | <!----> | <!----> | 2015/11/23 |  93 |\n| 92 | 黃頭陸龜     | <!----> | <!----> | <!----> | <!----> | 兩棲爬蟲動物館                          | 兩棲爬蟲動物館 | Elongate tortoise?              | Indotestudo elongata        | 脊索動物門 | ⋯ | <!----> | <!----> | <!----> | <!----> | <!----> | <!----> | <!----> | <!----> | <!----> |  NA |\n| 315 | 紅耳龜       | <!----> | <!----> | <!----> | MULTIPOINT ((121.5902773 24.9931994))                                                   | 溫帶動物區                              | <!----> | Red-eared slider                | Trachemys scripta elegans   | 脊索動物門 | ⋯ | <!----> | <!----> | <!----> | <!----> | <!----> | <!----> | <!----> | <!----> | 2015/11/23 | 239 |\n| 325 | 食蛇龜       | <!----> | <!----> | <!----> | MULTIPOINT ((121.5809552 24.9971802))                                                   | 臺灣動物區                              | <!----> | Yellow-margined box turtle      | Cistoclemmys flavomarginata | 脊索動物門 | ⋯ | <!----> | <!----> | <!----> | <!----> | <!----> | <!----> | <!----> | <!----> | 2015/11/23 | 249 |\n| 350 | 黃腿象龜     | <!----> | <!----> | <!----> | MULTIPOINT ((121.5832694 24.9958507))                                                   | 熱帶雨林室內館(穿山甲館)                | <!----> | Yellow-footed Tortoise          | Chelonoidis denticulata     | 脊索動物門 | ⋯ | <!----> | <!----> | <!----> | <!----> | <!----> | <!----> | <!----> | <!----> | <!----> |  NA |\n\n",
            "text/html": [
              "<table>\n",
              "<caption>A data.frame: 23 × 46</caption>\n",
              "<thead>\n",
              "\t<tr><th></th><th scope=col>A_Name_Ch</th><th scope=col>A_Summary</th><th scope=col>A_Keywords</th><th scope=col>A_AlsoKnown</th><th scope=col>A_Geo</th><th scope=col>A_Location</th><th scope=col>A_POIGroup</th><th scope=col>A_Name_En</th><th scope=col>A_Name_Latin</th><th scope=col>A_Phylum</th><th scope=col>⋯</th><th scope=col>A_pdf02_URL</th><th scope=col>A_Voice01_ALT</th><th scope=col>A_Voice01_URL</th><th scope=col>A_Voice02_ALT</th><th scope=col>A_Voice02_URL</th><th scope=col>A_Voice03_ALT</th><th scope=col>A_Voice03_URL</th><th scope=col>A_Vedio_URL</th><th scope=col>A_Update</th><th scope=col>A_CID</th></tr>\n",
              "\t<tr><th></th><th scope=col>&lt;chr&gt;</th><th scope=col>&lt;chr&gt;</th><th scope=col>&lt;chr&gt;</th><th scope=col>&lt;chr&gt;</th><th scope=col>&lt;chr&gt;</th><th scope=col>&lt;chr&gt;</th><th scope=col>&lt;chr&gt;</th><th scope=col>&lt;chr&gt;</th><th scope=col>&lt;chr&gt;</th><th scope=col>&lt;chr&gt;</th><th scope=col>⋯</th><th scope=col>&lt;chr&gt;</th><th scope=col>&lt;chr&gt;</th><th scope=col>&lt;chr&gt;</th><th scope=col>&lt;chr&gt;</th><th scope=col>&lt;chr&gt;</th><th scope=col>&lt;chr&gt;</th><th scope=col>&lt;chr&gt;</th><th scope=col>&lt;chr&gt;</th><th scope=col>&lt;chr&gt;</th><th scope=col>&lt;int&gt;</th></tr>\n",
              "</thead>\n",
              "<tbody>\n",
              "\t<tr><th scope=row>35</th><td>卡羅萊納箱龜</td><td></td><td></td><td> </td><td>MULTIPOINT ((121.5898494 24.9940697))                                                  </td><td>兩棲爬蟲動物館                         </td><td>兩棲爬蟲動物館</td><td>Common box turtle              </td><td>Terrapene carolina         </td><td>脊索動物門</td><td>⋯</td><td></td><td></td><td></td><td></td><td></td><td></td><td></td><td>https://www.youtube.com/playlist?list=PLWYak5Af5-DtytuL5mjnaBF5uq_eMs1Yk</td><td>2017/9/29 </td><td> 40</td></tr>\n",
              "\t<tr><th scope=row>36</th><td>四爪陸龜    </td><td></td><td></td><td> </td><td>MULTIPOINT ((121.5898494 24.9940697))                                                  </td><td>兩棲爬蟲動物館                         </td><td>兩棲爬蟲動物館</td><td>Horsfield's tortoise           </td><td>Testudo horsfieldi         </td><td>脊索動物門</td><td>⋯</td><td></td><td></td><td></td><td></td><td></td><td></td><td></td><td>https://www.youtube.com/playlist?list=PLWYak5Af5-DvUDf198yfozi9NRREO-cdj</td><td>2017/9/29 </td><td> 41</td></tr>\n",
              "\t<tr><th scope=row>38</th><td>印度星龜    </td><td></td><td></td><td> </td><td>MULTIPOINT ((121.5898494 24.9940697))                                                  </td><td>兩棲爬蟲動物館                         </td><td>兩棲爬蟲動物館</td><td>Indian star tortoise           </td><td>Geochelone elegans         </td><td>脊索動物門</td><td>⋯</td><td></td><td></td><td></td><td></td><td></td><td></td><td></td><td>https://www.youtube.com/playlist?list=PLWYak5Af5-DsBcjwIAgN5oSBzNb5mO9Ga</td><td>2017/9/29 </td><td> 43</td></tr>\n",
              "\t<tr><th scope=row>42</th><td>亞洲棕龜    </td><td></td><td></td><td> </td><td>MULTIPOINT ((121.5898494 24.9940697))                                                  </td><td>兩棲爬蟲動物館                         </td><td>兩棲爬蟲動物館</td><td>Asian brown tortoise           </td><td>Manouria emys              </td><td>脊索動物門</td><td>⋯</td><td></td><td></td><td></td><td></td><td></td><td></td><td></td><td>https://www.youtube.com/playlist?list=PLWYak5Af5-Du3w2HU6Efbfm52nsU4J4CX</td><td>2017/9/29 </td><td> 47</td></tr>\n",
              "\t<tr><th scope=row>43</th><td>亞達伯拉象龜</td><td></td><td></td><td> </td><td>MULTIPOINT ((121.5898494 24.9940697))                                                  </td><td>兩棲爬蟲動物館                         </td><td>兩棲爬蟲動物館</td><td>Aldabra Giant Tortoise         </td><td>Geochelone gigantea        </td><td>脊索動物門</td><td>⋯</td><td></td><td></td><td></td><td></td><td></td><td></td><td></td><td>https://www.youtube.com/playlist?list=PLWYak5Af5-DvPCCV9QQEq3B-Uj4hNcARY</td><td>2017/9/29 </td><td> 48</td></tr>\n",
              "\t<tr><th scope=row>46</th><td>扁頭長頸龜  </td><td></td><td></td><td> </td><td>MULTIPOINT ((121.5898494 24.9940697))                                                  </td><td>兩棲爬蟲動物館                         </td><td>兩棲爬蟲動物館</td><td>Siebenrock’s side-necked turtle</td><td>Chelodina siebenrocki      </td><td>脊索動物門</td><td>⋯</td><td></td><td></td><td></td><td></td><td></td><td></td><td></td><td>https://www.youtube.com/playlist?list=PLWYak5Af5-DuSaOSb_7J2dsykitbao-tn</td><td>2017/9/29 </td><td> 51</td></tr>\n",
              "\t<tr><th scope=row>50</th><td>紅腹側頸龜  </td><td></td><td></td><td> </td><td>MULTIPOINT ((121.5898494 24.9940697))                                                  </td><td>兩棲爬蟲動物館                         </td><td>兩棲爬蟲動物館</td><td>Red-bellied short-neck turtle  </td><td>Emydura subglobosa         </td><td>脊索動物門</td><td>⋯</td><td></td><td></td><td></td><td></td><td></td><td></td><td></td><td>https://www.youtube.com/playlist?list=PLWYak5Af5-DvFGDvQ3umXnJJvJfgsLsMK</td><td>2017/9/29 </td><td> 54</td></tr>\n",
              "\t<tr><th scope=row>51</th><td>紅腿象龜    </td><td></td><td></td><td> </td><td>MULTIPOINT ((121.5833432 24.9960747),(121.5901453 24.9946356))                         </td><td>熱帶雨林室內館(穿山甲館);兩棲爬蟲動物館</td><td>              </td><td>Red-foot tortoise              </td><td>Chelonoidis carbonarius    </td><td>脊索動物門</td><td>⋯</td><td></td><td></td><td></td><td></td><td></td><td></td><td></td><td>https://www.youtube.com/playlist?list=PLWYak5Af5-Dvor0zdz2K6SjNskDt8pbzg</td><td>2017/9/29 </td><td> 55</td></tr>\n",
              "\t<tr><th scope=row>53</th><td>食蛇龜      </td><td></td><td></td><td> </td><td>MULTIPOINT ((121.5898494 24.9940697))                                                  </td><td>兩棲爬蟲動物館                         </td><td>兩棲爬蟲動物館</td><td>Yellow-margined box turtle     </td><td>Cistoclemmys flavomarginata</td><td>脊索動物門</td><td>⋯</td><td></td><td></td><td></td><td></td><td></td><td></td><td></td><td>https://www.youtube.com/playlist?list=PLWYak5Af5-DvesG6Nmh0-w50HRB2aGX21</td><td>2017/9/29 </td><td> 57</td></tr>\n",
              "\t<tr><th scope=row>54</th><td>射紋陸龜    </td><td></td><td></td><td> </td><td>MULTIPOINT ((121.5833766 24.9960938),(121.5898494 24.9940697))                         </td><td>熱帶雨林室內館(穿山甲館);兩棲爬蟲動物館</td><td>              </td><td>Radiated tortoise              </td><td>Astrochelys radiata        </td><td>脊索動物門</td><td>⋯</td><td></td><td></td><td></td><td></td><td></td><td></td><td></td><td>https://www.youtube.com/playlist?list=PLWYak5Af5-DskYv0yBtCegIz7-AxfW1iw</td><td>2017/9/29 </td><td> 58</td></tr>\n",
              "\t<tr><th scope=row>55</th><td>豹紋象龜    </td><td></td><td></td><td> </td><td>MULTIPOINT ((121.5898494 24.9940697))                                                  </td><td>兩棲爬蟲動物館                         </td><td>兩棲爬蟲動物館</td><td>Leopard tortoise               </td><td>Geochelone pardalis        </td><td>脊索動物門</td><td>⋯</td><td></td><td></td><td></td><td></td><td></td><td></td><td></td><td>https://www.youtube.com/playlist?list=PLWYak5Af5-DsixYqPcjJCKogpcQszfL8B</td><td>2017/9/29 </td><td> 59</td></tr>\n",
              "\t<tr><th scope=row>66</th><td>斑龜        </td><td></td><td></td><td> </td><td>MULTIPOINT ((121.5898494 24.9940697))                                                  </td><td>兩棲爬蟲動物館                         </td><td>兩棲爬蟲動物館</td><td>Chinese striped-neck turtle    </td><td>Ocadia sinensis            </td><td>脊索動物門</td><td>⋯</td><td></td><td></td><td></td><td></td><td></td><td></td><td></td><td>                                                                        </td><td>2015/11/23</td><td> 69</td></tr>\n",
              "\t<tr><th scope=row>71</th><td>黃頭象龜    </td><td></td><td></td><td> </td><td>MULTIPOINT ((121.5898494 24.9940697))                                                  </td><td>兩棲爬蟲動物館                         </td><td>兩棲爬蟲動物館</td><td>Yellow-headed tortoise         </td><td>Indotestudo elongata       </td><td>脊索動物門</td><td>⋯</td><td></td><td></td><td></td><td></td><td></td><td></td><td></td><td>                                                                        </td><td>2015/11/23</td><td> 74</td></tr>\n",
              "\t<tr><th scope=row>80</th><td>赫曼氏陸龜  </td><td></td><td></td><td> </td><td>MULTIPOINT ((121.5898494 24.9940697))                                                  </td><td>兩棲爬蟲動物館                         </td><td>兩棲爬蟲動物館</td><td>Hermann’s tortoise             </td><td>Testudo hermanni           </td><td>脊索動物門</td><td>⋯</td><td></td><td></td><td></td><td></td><td></td><td></td><td></td><td>                                                                        </td><td>2015/11/23</td><td> 83</td></tr>\n",
              "\t<tr><th scope=row>81</th><td>歐洲陸龜    </td><td></td><td></td><td> </td><td>MULTIPOINT ((121.5898494 24.9940697))                                                  </td><td>兩棲爬蟲動物館                         </td><td>兩棲爬蟲動物館</td><td>Spur-thighed tortoise          </td><td>Testudo gracea             </td><td>脊索動物門</td><td>⋯</td><td></td><td></td><td></td><td></td><td></td><td></td><td></td><td>                                                                        </td><td>2015/11/23</td><td> 84</td></tr>\n",
              "\t<tr><th scope=row>83</th><td>緬甸星龜    </td><td></td><td></td><td> </td><td>MULTIPOINT ((121.5898494 24.9940697))                                                  </td><td>兩棲爬蟲動物館                         </td><td>兩棲爬蟲動物館</td><td>Burmese star tortoise          </td><td>Geochelone platynota       </td><td>脊索動物門</td><td>⋯</td><td></td><td></td><td></td><td></td><td></td><td></td><td></td><td>                                                                        </td><td>2015/11/23</td><td> 86</td></tr>\n",
              "\t<tr><th scope=row>84</th><td>豬鼻龜      </td><td></td><td></td><td> </td><td>MULTIPOINT ((121.5898494 24.9940697))                                                  </td><td>兩棲爬蟲動物館                         </td><td>兩棲爬蟲動物館</td><td>Pig-nosed turtle               </td><td>Carettochelys insculpta    </td><td>脊索動物門</td><td>⋯</td><td></td><td></td><td></td><td></td><td></td><td></td><td></td><td>                                                                        </td><td>2015/11/23</td><td> 87</td></tr>\n",
              "\t<tr><th scope=row>88</th><td>鱷龜        </td><td></td><td></td><td> </td><td>MULTIPOINT ((121.5898494 24.9940697))                                                  </td><td>兩棲爬蟲動物館                         </td><td>兩棲爬蟲動物館</td><td>Alligator snapping turtle      </td><td>Macroclemys temminckii     </td><td>脊索動物門</td><td>⋯</td><td></td><td></td><td></td><td></td><td></td><td></td><td></td><td>                                                                        </td><td>2015/11/23</td><td> 91</td></tr>\n",
              "\t<tr><th scope=row>90</th><td>蘇卡達象龜  </td><td></td><td></td><td> </td><td>MULTIPOINT ((121.5898494 24.9940697), (121.586726 24.994559), (121.5873295 24.9946641))</td><td>兩棲爬蟲動物館;非洲動物區              </td><td>兩棲爬蟲動物館</td><td>African spurred tortoise       </td><td>Geochelone sulcata         </td><td>脊索動物門</td><td>⋯</td><td></td><td></td><td></td><td></td><td></td><td></td><td></td><td>                                                                        </td><td>2015/11/23</td><td> 93</td></tr>\n",
              "\t<tr><th scope=row>92</th><td>黃頭陸龜    </td><td></td><td></td><td> </td><td>                                                                                       </td><td>兩棲爬蟲動物館                         </td><td>兩棲爬蟲動物館</td><td>Elongate tortoise?             </td><td>Indotestudo elongata       </td><td>脊索動物門</td><td>⋯</td><td></td><td></td><td></td><td></td><td></td><td></td><td></td><td>                                                                        </td><td>          </td><td> NA</td></tr>\n",
              "\t<tr><th scope=row>315</th><td>紅耳龜      </td><td></td><td></td><td> </td><td>MULTIPOINT ((121.5902773 24.9931994))                                                  </td><td>溫帶動物區                             </td><td>              </td><td>Red-eared slider               </td><td>Trachemys scripta elegans  </td><td>脊索動物門</td><td>⋯</td><td></td><td></td><td></td><td></td><td></td><td></td><td></td><td>                                                                        </td><td>2015/11/23</td><td>239</td></tr>\n",
              "\t<tr><th scope=row>325</th><td>食蛇龜      </td><td></td><td></td><td> </td><td>MULTIPOINT ((121.5809552 24.9971802))                                                  </td><td>臺灣動物區                             </td><td>              </td><td>Yellow-margined box turtle     </td><td>Cistoclemmys flavomarginata</td><td>脊索動物門</td><td>⋯</td><td></td><td></td><td></td><td></td><td></td><td></td><td></td><td>                                                                        </td><td>2015/11/23</td><td>249</td></tr>\n",
              "\t<tr><th scope=row>350</th><td>黃腿象龜    </td><td></td><td></td><td> </td><td>MULTIPOINT ((121.5832694 24.9958507))                                                  </td><td>熱帶雨林室內館(穿山甲館)               </td><td>              </td><td>Yellow-footed Tortoise         </td><td>Chelonoidis denticulata    </td><td>脊索動物門</td><td>⋯</td><td></td><td></td><td></td><td></td><td></td><td></td><td></td><td>                                                                        </td><td>          </td><td> NA</td></tr>\n",
              "</tbody>\n",
              "</table>\n"
            ]
          },
          "metadata": {
            "tags": []
          }
        }
      ]
    }
  ]
}