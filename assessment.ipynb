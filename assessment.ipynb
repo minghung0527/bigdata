{
  "nbformat": 4,
  "nbformat_minor": 0,
  "metadata": {
    "colab": {
      "name": "assessment",
      "provenance": [],
      "collapsed_sections": [],
      "include_colab_link": true
    },
    "kernelspec": {
      "name": "ir",
      "display_name": "R"
    }
  },
  "cells": [
    {
      "cell_type": "markdown",
      "metadata": {
        "id": "view-in-github",
        "colab_type": "text"
      },
      "source": [
        "<a href=\"https://colab.research.google.com/github/minghung0527/bigdata/blob/master/assessment.ipynb\" target=\"_parent\"><img src=\"https://colab.research.google.com/assets/colab-badge.svg\" alt=\"Open In Colab\"/></a>"
      ]
    },
    {
      "cell_type": "code",
      "metadata": {
        "id": "s1KQOwchWe_k",
        "colab_type": "code",
        "colab": {
          "base_uri": "https://localhost:8080/",
          "height": 34
        },
        "outputId": "aaf64a15-6b1c-44ac-fcf6-7cb9a057fbe3"
      },
      "source": [
        "class(154)"
      ],
      "execution_count": null,
      "outputs": [
        {
          "output_type": "display_data",
          "data": {
            "text/plain": [
              "[1] \"numeric\""
            ],
            "text/latex": "'numeric'",
            "text/markdown": "'numeric'",
            "text/html": [
              "'numeric'"
            ]
          },
          "metadata": {
            "tags": []
          }
        }
      ]
    },
    {
      "cell_type": "code",
      "metadata": {
        "id": "cW4YhUmGXjPT",
        "colab_type": "code",
        "colab": {
          "base_uri": "https://localhost:8080/",
          "height": 34
        },
        "outputId": "4aa765f3-4302-42a2-d9c0-4bb46ba3e438"
      },
      "source": [
        "class(\"Hi\")"
      ],
      "execution_count": null,
      "outputs": [
        {
          "output_type": "display_data",
          "data": {
            "text/plain": [
              "[1] \"character\""
            ],
            "text/latex": "'character'",
            "text/markdown": "'character'",
            "text/html": [
              "'character'"
            ]
          },
          "metadata": {
            "tags": []
          }
        }
      ]
    },
    {
      "cell_type": "code",
      "metadata": {
        "id": "JZ4klQV-XL8G",
        "colab_type": "code",
        "colab": {
          "base_uri": "https://localhost:8080/",
          "height": 34
        },
        "outputId": "9707cc48-e605-4678-d397-57b017b8610c"
      },
      "source": [
        "8 < 9"
      ],
      "execution_count": null,
      "outputs": [
        {
          "output_type": "display_data",
          "data": {
            "text/plain": [
              "[1] TRUE"
            ],
            "text/latex": "TRUE",
            "text/markdown": "TRUE",
            "text/html": [
              "TRUE"
            ]
          },
          "metadata": {
            "tags": []
          }
        }
      ]
    },
    {
      "cell_type": "code",
      "metadata": {
        "id": "2PVCnRVWXsJY",
        "colab_type": "code",
        "colab": {
          "base_uri": "https://localhost:8080/",
          "height": 34
        },
        "outputId": "7cac1624-0820-4f5f-8dbb-5fd152b70ec7"
      },
      "source": [
        "5 + 8"
      ],
      "execution_count": null,
      "outputs": [
        {
          "output_type": "display_data",
          "data": {
            "text/plain": [
              "[1] 13"
            ],
            "text/latex": "13",
            "text/markdown": "13",
            "text/html": [
              "13"
            ]
          },
          "metadata": {
            "tags": []
          }
        }
      ]
    },
    {
      "cell_type": "code",
      "metadata": {
        "id": "qP07aeOCXvhP",
        "colab_type": "code",
        "colab": {
          "base_uri": "https://localhost:8080/",
          "height": 34
        },
        "outputId": "a63f94e9-c807-4283-f288-270bf8bbaf55"
      },
      "source": [
        "13 * 2"
      ],
      "execution_count": null,
      "outputs": [
        {
          "output_type": "display_data",
          "data": {
            "text/plain": [
              "[1] 26"
            ],
            "text/latex": "26",
            "text/markdown": "26",
            "text/html": [
              "26"
            ]
          },
          "metadata": {
            "tags": []
          }
        }
      ]
    },
    {
      "cell_type": "code",
      "metadata": {
        "id": "QVrzyLujX2Up",
        "colab_type": "code",
        "colab": {
          "base_uri": "https://localhost:8080/",
          "height": 34
        },
        "outputId": "63250ed2-a2fe-45b2-fc1b-d0cfaedd73dd"
      },
      "source": [
        "56 / 8"
      ],
      "execution_count": null,
      "outputs": [
        {
          "output_type": "display_data",
          "data": {
            "text/plain": [
              "[1] 7"
            ],
            "text/latex": "7",
            "text/markdown": "7",
            "text/html": [
              "7"
            ]
          },
          "metadata": {
            "tags": []
          }
        }
      ]
    },
    {
      "cell_type": "code",
      "metadata": {
        "id": "a7UJGcgtYkxh",
        "colab_type": "code",
        "colab": {
          "base_uri": "https://localhost:8080/",
          "height": 34
        },
        "outputId": "b7f4bd37-c49d-4d85-faa2-39d850c6faa2"
      },
      "source": [
        "my.height = 169\n",
        "my.weight = 75\n",
        "my.BMI <- my.weight/((my.height/100)^2)\n",
        "my.BMI"
      ],
      "execution_count": null,
      "outputs": [
        {
          "output_type": "display_data",
          "data": {
            "text/plain": [
              "[1] 26.25958"
            ],
            "text/latex": "26.2595847484332",
            "text/markdown": "26.2595847484332",
            "text/html": [
              "26.2595847484332"
            ]
          },
          "metadata": {
            "tags": []
          }
        }
      ]
    },
    {
      "cell_type": "code",
      "metadata": {
        "id": "sp7IGpJgbR3-",
        "colab_type": "code",
        "colab": {
          "base_uri": "https://localhost:8080/",
          "height": 34
        },
        "outputId": "af6a6ec8-cbe4-451f-f962-b7af13db5f54"
      },
      "source": [
        "paste0(\"我的名字是鄭名宏，\",\"我的身高是\",my.height,\"公分，\",\"我的體重是\",my.weight,\"公斤，\",\"我的BMI是\",my.BMI,\"。\")"
      ],
      "execution_count": null,
      "outputs": [
        {
          "output_type": "display_data",
          "data": {
            "text/plain": [
              "[1] \"我的名字是鄭名宏，我的身高是169公分，我的體重是75公斤，我的BMI是26.2595847484332。\""
            ],
            "text/latex": "'我的名字是鄭名宏，我的身高是169公分，我的體重是75公斤，我的BMI是26.2595847484332。'",
            "text/markdown": "'我的名字是鄭名宏，我的身高是169公分，我的體重是75公斤，我的BMI是26.2595847484332。'",
            "text/html": [
              "'我的名字是鄭名宏，我的身高是169公分，我的體重是75公斤，我的BMI是26.2595847484332。'"
            ]
          },
          "metadata": {
            "tags": []
          }
        }
      ]
    }
  ]
}